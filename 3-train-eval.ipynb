{
 "cells": [
  {
   "cell_type": "code",
   "execution_count": 33,
   "metadata": {},
   "outputs": [],
   "source": [
    "import json\n",
    "\n",
    "with open(\"/home/ubuntu/config.json\") as file:\n",
    "    config = json.load(file)"
   ]
  },
  {
   "cell_type": "code",
   "execution_count": 34,
   "metadata": {},
   "outputs": [
    {
     "name": "stdout",
     "output_type": "stream",
     "text": [
      "source_docs_s3_uri : s3://applied-agi/ner-comprehend/pdfs/\n",
      "annotations_data_s3_uri : s3://applied-agi/ner-comprehend/annotations/\n",
      "augmented_manifests_s3_uri : s3://applied-agi/ner-comprehend/manifests/output.manifest\n",
      "comprehend_data_access_role_arn : arn:aws:iam::324622400514:role/applied-agi-comprehend-s3-access\n"
     ]
    }
   ],
   "source": [
    "workspace_bucket = \"applied-agi\"\n",
    "local_pdfs_folder_path = \"data/\"\n",
    "\n",
    "s3_pdfs_folder_path = \"ner-comprehend/pdfs\"\n",
    "source_docs_s3_uri = f\"s3://{workspace_bucket}/{s3_pdfs_folder_path}/\"\n",
    "\n",
    "annotations_folder_path = \"ner-comprehend/annotations\"\n",
    "annotations_data_s3_uri = f\"s3://{workspace_bucket}/{annotations_folder_path}/\"\n",
    "\n",
    "manifest_folder_path=\"ner-comprehend/manifests\"\n",
    "output_manifest_file_name=\"output.manifest\"\n",
    "augmented_manifests_s3_uri = f\"s3://{workspace_bucket}/{manifest_folder_path}/{output_manifest_file_name}\"\n",
    "\n",
    "comprehend_data_access_role_arn = config[\"comprehend_s3_role\"]\n",
    "annotation_job_name = \"pdf-ner-annotation\"\n",
    "\n",
    "print(f\"source_docs_s3_uri : {source_docs_s3_uri}\")\n",
    "print(f\"annotations_data_s3_uri : {annotations_data_s3_uri}\")\n",
    "print(f\"augmented_manifests_s3_uri : {augmented_manifests_s3_uri}\")\n",
    "print(f\"comprehend_data_access_role_arn : {comprehend_data_access_role_arn}\")"
   ]
  },
  {
   "cell_type": "code",
   "execution_count": 35,
   "metadata": {},
   "outputs": [],
   "source": [
    "from utils.entities import entity_names_list\n",
    "\n",
    "entity_types = [{\"Type\": entity_name} for entity_name in entity_names_list]\n",
    "# entity_types"
   ]
  },
  {
   "cell_type": "code",
   "execution_count": 36,
   "metadata": {},
   "outputs": [],
   "source": [
    "import boto3\n",
    "\n",
    "comprehend_client = boto3.client(\"comprehend\")\n",
    "\n",
    "response = comprehend_client.create_entity_recognizer(\n",
    "    RecognizerName=\"pdf-ner\",\n",
    "    VersionName=\"v3\",\n",
    "    LanguageCode=\"en\",\n",
    "    DataAccessRoleArn=comprehend_data_access_role_arn,\n",
    "    InputDataConfig={\n",
    "        \"DataFormat\": \"AUGMENTED_MANIFEST\",\n",
    "        'EntityTypes': entity_types,\n",
    "        'AugmentedManifests': [\n",
    "            {\n",
    "                'S3Uri': augmented_manifests_s3_uri,\n",
    "                'Split': 'TRAIN',\n",
    "                'AttributeNames':[\n",
    "                    annotation_job_name\n",
    "                ],\n",
    "                'AnnotationDataS3Uri': annotations_data_s3_uri,\n",
    "                'SourceDocumentsS3Uri': source_docs_s3_uri,\n",
    "                'DocumentType': 'SEMI_STRUCTURED_DOCUMENT'\n",
    "            },\n",
    "        ]\n",
    "    }\n",
    ")"
   ]
  },
  {
   "cell_type": "code",
   "execution_count": 37,
   "metadata": {},
   "outputs": [
    {
     "data": {
      "text/plain": [
       "{'EntityRecognizerArn': 'arn:aws:comprehend:us-east-1:324622400514:entity-recognizer/pdf-ner/version/v3',\n",
       " 'LanguageCode': 'en',\n",
       " 'Status': 'SUBMITTED',\n",
       " 'SubmitTime': datetime.datetime(2024, 3, 23, 16, 58, 31, 281000, tzinfo=tzlocal()),\n",
       " 'InputDataConfig': {'DataFormat': 'AUGMENTED_MANIFEST',\n",
       "  'EntityTypes': [{'Type': 'INVOICE_NUMBER'},\n",
       "   {'Type': 'INVOICE_DATE'},\n",
       "   {'Type': 'COMPANY_NAME'},\n",
       "   {'Type': 'INVOICE_AMOUNT'},\n",
       "   {'Type': 'CURRENCY'},\n",
       "   {'Type': 'REMIT_TO_ADDRESS_STREET'},\n",
       "   {'Type': 'REMIT_TO_ADDRESS_CITY'},\n",
       "   {'Type': 'REMIT_TO_ADDRESS_STATE'},\n",
       "   {'Type': 'REMIT_TO_ADDRESS_COUNTRY'},\n",
       "   {'Type': 'REMIT_TO_ADDRESS_ZIP_CODE'},\n",
       "   {'Type': 'REMIT_TO_ADDRESS_OTHERS'},\n",
       "   {'Type': 'SHIP_TO_ADDRESS_STREET'},\n",
       "   {'Type': 'SHIP_TO_ADDRESS_CITY'},\n",
       "   {'Type': 'SHIP_TO_ADDRESS_STATE'},\n",
       "   {'Type': 'SHIP_TO_ADDRESS_COUNTRY'},\n",
       "   {'Type': 'SHIP_TO_ADDRESS_ZIP_CODE'},\n",
       "   {'Type': 'SHIP_TO_ADDRESS_OTHERS'}],\n",
       "  'AugmentedManifests': [{'S3Uri': 's3://applied-agi/ner-comprehend/manifests/output.manifest',\n",
       "    'Split': 'TRAIN',\n",
       "    'AttributeNames': ['pdf-ner-annotation'],\n",
       "    'AnnotationDataS3Uri': 's3://applied-agi/ner-comprehend/annotations/',\n",
       "    'SourceDocumentsS3Uri': 's3://applied-agi/ner-comprehend/pdfs/',\n",
       "    'DocumentType': 'SEMI_STRUCTURED_DOCUMENT'}]},\n",
       " 'DataAccessRoleArn': 'arn:aws:iam::324622400514:role/applied-agi-comprehend-s3-access',\n",
       " 'VersionName': 'v3'}"
      ]
     },
     "execution_count": 37,
     "metadata": {},
     "output_type": "execute_result"
    }
   ],
   "source": [
    "# All recognizers\n",
    "recognizers = comprehend_client.list_entity_recognizers()\n",
    "# View the last submitted job\n",
    "recognizers['EntityRecognizerPropertiesList'][-1]"
   ]
  },
  {
   "cell_type": "code",
   "execution_count": 38,
   "metadata": {},
   "outputs": [
    {
     "name": "stdout",
     "output_type": "stream",
     "text": [
      "SUBMITTED\n"
     ]
    },
    {
     "name": "stdout",
     "output_type": "stream",
     "text": [
      "SUBMITTED\n",
      "SUBMITTED\n",
      "TRAINING\n",
      "TRAINING\n",
      "TRAINING\n",
      "TRAINING\n",
      "TRAINING\n",
      "TRAINING\n",
      "TRAINING\n",
      "TRAINING\n",
      "TRAINING\n",
      "TRAINING\n",
      "TRAINING\n",
      "TRAINING\n",
      "TRAINING\n",
      "TRAINING\n",
      "TRAINING\n",
      "TRAINING\n",
      "TRAINING\n",
      "TRAINING\n",
      "TRAINING\n",
      "TRAINING\n",
      "TRAINING\n",
      "TRAINING\n",
      "TRAINING\n",
      "TRAINING\n",
      "TRAINING COMPLETE\n"
     ]
    }
   ],
   "source": [
    "# To monitor the status of the training job, you can use the describe_entity_recognizer API.\n",
    "# Check status of custom model training periodically until complete.\n",
    "import time\n",
    "\n",
    "recognizer_arn = recognizers['EntityRecognizerPropertiesList'][-1]['EntityRecognizerArn']\n",
    "\n",
    "while True:\n",
    "    response = comprehend_client.describe_entity_recognizer(\n",
    "        EntityRecognizerArn=recognizer_arn\n",
    "    )\n",
    "\n",
    "    status = response[\"EntityRecognizerProperties\"][\"Status\"]\n",
    "    if \"IN_ERROR\" == status:\n",
    "        print('TRAINING ERROR')\n",
    "        break\n",
    "    if \"TRAINED\" == status:\n",
    "        print('TRAINING COMPLETE')\n",
    "        break\n",
    "    print(status)\n",
    "    time.sleep(60)"
   ]
  },
  {
   "cell_type": "code",
   "execution_count": 41,
   "metadata": {},
   "outputs": [
    {
     "name": "stdout",
     "output_type": "stream",
     "text": [
      "COMPANY_NAME\n",
      "{'Precision': 0.2631578947368421, 'Recall': 0.40540540540540543, 'F1Score': 0.3191489361702128}\n",
      "\n",
      "CURRENCY\n",
      "{'Precision': 1.0, 'Recall': 1.0, 'F1Score': 1.0}\n",
      "\n",
      "INVOICE_AMOUNT\n",
      "{'Precision': 1.0, 'Recall': 1.0, 'F1Score': 1.0}\n",
      "\n",
      "INVOICE_DATE\n",
      "{'Precision': 1.0, 'Recall': 1.0, 'F1Score': 1.0}\n",
      "\n",
      "INVOICE_NUMBER\n",
      "{'Precision': 0.8888888888888888, 'Recall': 0.8888888888888888, 'F1Score': 0.8888888888888888}\n",
      "\n",
      "REMIT_TO_ADDRESS_CITY\n",
      "{'Precision': 1.0, 'Recall': 1.0, 'F1Score': 1.0}\n",
      "\n",
      "REMIT_TO_ADDRESS_COUNTRY\n",
      "{'Precision': 1.0, 'Recall': 1.0, 'F1Score': 1.0}\n",
      "\n",
      "REMIT_TO_ADDRESS_OTHERS\n",
      "{'Precision': 1.0, 'Recall': 0.13333333333333333, 'F1Score': 0.23529411764705882}\n",
      "\n",
      "REMIT_TO_ADDRESS_STREET\n",
      "{'Precision': 1.0, 'Recall': 1.0, 'F1Score': 1.0}\n",
      "\n",
      "REMIT_TO_ADDRESS_ZIP_CODE\n",
      "{'Precision': 1.0, 'Recall': 1.0, 'F1Score': 1.0}\n",
      "\n",
      "SHIP_TO_ADDRESS_CITY\n",
      "{'Precision': 1.0, 'Recall': 0.9565217391304348, 'F1Score': 0.9777777777777777}\n",
      "\n",
      "SHIP_TO_ADDRESS_COUNTRY\n",
      "{'Precision': 1.0, 'Recall': 1.0, 'F1Score': 1.0}\n",
      "\n",
      "SHIP_TO_ADDRESS_OTHERS\n",
      "{'Precision': 0.034482758620689655, 'Recall': 0.0625, 'F1Score': 0.044444444444444446}\n",
      "\n",
      "SHIP_TO_ADDRESS_STATE\n",
      "{'Precision': 1.0, 'Recall': 1.0, 'F1Score': 1.0}\n",
      "\n",
      "SHIP_TO_ADDRESS_STREET\n",
      "{'Precision': 0.9714285714285714, 'Recall': 0.918918918918919, 'F1Score': 0.9444444444444445}\n",
      "\n",
      "SHIP_TO_ADDRESS_ZIP_CODE\n",
      "{'Precision': 1.0, 'Recall': 1.0, 'F1Score': 1.0}\n",
      "\n"
     ]
    }
   ],
   "source": [
    "# Per entity metrics\n",
    "entity_metrics = response['EntityRecognizerProperties']['RecognizerMetadata']['EntityTypes']\n",
    "for entity in entity_metrics:\n",
    "    print(entity['Type'])\n",
    "    print(entity['EvaluationMetrics'])\n",
    "    print()"
   ]
  },
  {
   "cell_type": "code",
   "execution_count": 42,
   "metadata": {},
   "outputs": [
    {
     "name": "stdout",
     "output_type": "stream",
     "text": [
      "{\n",
      "    \"EndpointArn\": \"arn:aws:comprehend:us-east-1:324622400514:entity-recognizer-endpoint/pdf-ner-v3\",\n",
      "    \"ResponseMetadata\": {\n",
      "        \"HTTPHeaders\": {\n",
      "            \"content-length\": \"97\",\n",
      "            \"content-type\": \"application/x-amz-json-1.1\",\n",
      "            \"date\": \"Sat, 23 Mar 2024 17:32:41 GMT\",\n",
      "            \"x-amzn-requestid\": \"cd8ebaa4-2eed-491c-86e8-6b3aee62ee62\"\n",
      "        },\n",
      "        \"HTTPStatusCode\": 200,\n",
      "        \"RequestId\": \"cd8ebaa4-2eed-491c-86e8-6b3aee62ee62\",\n",
      "        \"RetryAttempts\": 0\n",
      "    }\n",
      "}\n",
      "CPU times: user 14 ms, sys: 4.54 ms, total: 18.6 ms\n",
      "Wall time: 136 ms\n"
     ]
    }
   ],
   "source": [
    "%%time\n",
    "endpoint_name = \"pdf-ner-v3\"\n",
    "\n",
    "endpoint_response = comprehend_client.create_endpoint(\n",
    "    EndpointName= endpoint_name,\n",
    "    ModelArn= recognizer_arn,\n",
    "    DesiredInferenceUnits=1,\n",
    "    ClientRequestToken='string',\n",
    "    Tags=[\n",
    "        {\n",
    "            'Key': 'name',\n",
    "            'Value': 'invoice_endpoint'\n",
    "        },\n",
    "    ],\n",
    "    DataAccessRoleArn= comprehend_data_access_role_arn\n",
    ")\n",
    "print(json.dumps(endpoint_response, indent=4, sort_keys=True))"
   ]
  },
  {
   "cell_type": "code",
   "execution_count": 43,
   "metadata": {},
   "outputs": [
    {
     "name": "stdout",
     "output_type": "stream",
     "text": [
      "CREATING\n",
      "CREATING\n",
      "CREATING\n",
      "CREATING\n",
      "CREATING\n",
      "CREATING\n",
      "CREATING\n",
      "CREATING\n",
      "IN_SERVICE\n"
     ]
    },
    {
     "ename": "KeyboardInterrupt",
     "evalue": "",
     "output_type": "error",
     "traceback": [
      "\u001b[0;31m---------------------------------------------------------------------------\u001b[0m",
      "\u001b[0;31mKeyboardInterrupt\u001b[0m                         Traceback (most recent call last)",
      "Cell \u001b[0;32mIn[43], line 13\u001b[0m\n\u001b[1;32m     11\u001b[0m     ep_status \u001b[38;5;241m=\u001b[39m (ep_response[\u001b[38;5;124m\"\u001b[39m\u001b[38;5;124mEndpointProperties\u001b[39m\u001b[38;5;124m\"\u001b[39m][\u001b[38;5;124m\"\u001b[39m\u001b[38;5;124mStatus\u001b[39m\u001b[38;5;124m\"\u001b[39m])\n\u001b[1;32m     12\u001b[0m     \u001b[38;5;28mprint\u001b[39m (ep_status)\n\u001b[0;32m---> 13\u001b[0m     \u001b[43mtime\u001b[49m\u001b[38;5;241;43m.\u001b[39;49m\u001b[43msleep\u001b[49m\u001b[43m(\u001b[49m\u001b[38;5;241;43m60\u001b[39;49m\u001b[43m)\u001b[49m\n\u001b[1;32m     15\u001b[0m \u001b[38;5;28mprint\u001b[39m(\u001b[38;5;124mf\u001b[39m\u001b[38;5;124m\"\u001b[39m\u001b[38;5;124myour endpoint is : \u001b[39m\u001b[38;5;132;01m{\u001b[39;00mep_status\u001b[38;5;132;01m}\u001b[39;00m\u001b[38;5;124m \u001b[39m\u001b[38;5;124m\"\u001b[39m)\n",
      "\u001b[0;31mKeyboardInterrupt\u001b[0m: "
     ]
    }
   ],
   "source": [
    "EndpointArn= endpoint_response[\"EndpointArn\"]\n",
    "\n",
    "ep_response = comprehend_client.describe_endpoint(\n",
    "    EndpointArn= EndpointArn\n",
    ")\n",
    "\n",
    "ep_status = (ep_response[\"EndpointProperties\"][\"Status\"])\n",
    "\n",
    "while ep_status != \"IN_SERVICE\":\n",
    "    ep_response = comprehend_client.describe_endpoint(EndpointArn= EndpointArn)\n",
    "    ep_status = ep_response[\"EndpointProperties\"][\"Status\"]\n",
    "    print(ep_status)\n",
    "    time.sleep(60)\n",
    "\n",
    "print(f\"your endpoint is : {ep_status} \")\n"
   ]
  },
  {
   "cell_type": "markdown",
   "metadata": {},
   "source": [
    "### inference"
   ]
  },
  {
   "cell_type": "code",
   "execution_count": 54,
   "metadata": {},
   "outputs": [],
   "source": [
    "import base64\n",
    "import boto3\n",
    "import json\n",
    "from botocore.exceptions import ClientError\n",
    "\n",
    "comprehend_client = boto3.client('comprehend')\n",
    "\n",
    "key = f'{s3_pdfs_folder_path}/invoice1.pdf'\n",
    "obj = boto3.resource(\"s3\").Object(workspace_bucket, key)\n",
    "document_bytes = obj.get()['Body'].read()\n",
    "# document_bytes"
   ]
  },
  {
   "cell_type": "code",
   "execution_count": 55,
   "metadata": {},
   "outputs": [],
   "source": [
    "try:\n",
    "    response = comprehend_client.detect_entities(\n",
    "        Bytes = document_bytes, \n",
    "        DocumentReaderConfig={\n",
    "            # \"DocumentReadAction\": \"TEXTRACT_ANALYZE_DOCUMENT\",\n",
    "            \"DocumentReadAction\": \"TEXTRACT_DETECT_DOCUMENT_TEXT\",\n",
    "            \"DocumentReadMode\": \"SERVICE_DEFAULT\"\n",
    "        },\n",
    "        EndpointArn=EndpointArn\n",
    "    )\n",
    "    # print(json.dumps(response, indent=4, sort_keys=True))\n",
    "\n",
    "except ClientError as e:\n",
    "    print(e)\n",
    "    print(\"Error\", e.response['Reason'], e.response['Detail']['Reason'])"
   ]
  },
  {
   "cell_type": "code",
   "execution_count": 56,
   "metadata": {},
   "outputs": [
    {
     "name": "stdout",
     "output_type": "stream",
     "text": [
      "Number of pages in this document :  1 and characters extracted count is : 948\n",
      "Entity Type : COMPANY_NAME        Entity : BROUR        Score : 99.97\n",
      "Entity Type : REMIT_TO_ADDRESS_STREET        Entity : 12 Commonwealth Drive        Score : 99.95\n",
      "Entity Type : INVOICE_NUMBER        Entity : 124567AB        Score : 99.88\n",
      "Entity Type : SHIP_TO_ADDRESS_COUNTRY        Entity : Singapore        Score : 99.95\n",
      "Entity Type : REMIT_TO_ADDRESS_ZIP_CODE        Entity : S143023        Score : 99.54\n",
      "Entity Type : INVOICE_DATE        Entity : 04/05/2022        Score : 99.97\n",
      "Entity Type : SHIP_TO_ADDRESS_OTHERS        Entity : Phone:        Score : 99.95\n",
      "Entity Type : SHIP_TO_ADDRESS_STREET        Entity : WeCan Halt Road #28-01        Score : 99.97\n",
      "Entity Type : SHIP_TO_ADDRESS_ZIP_CODE        Entity : S123456        Score : 99.92\n",
      "Entity Type : SHIP_TO_ADDRESS_OTHERS        Entity : 123445        Score : 99.77\n",
      "Entity Type : INVOICE_AMOUNT        Entity : 7000        Score : 99.99\n"
     ]
    }
   ],
   "source": [
    "extracted_chars = 0\n",
    "for page_detail in response[\"DocumentMetadata\"][\"ExtractedCharacters\"]:\n",
    "    extracted_chars = extracted_chars + page_detail[\"Count\"]\n",
    "print (\"Number of pages in this document :  \" + str(page_detail[\"Page\"]) + \" and characters extracted count is : \" + str(extracted_chars))\n",
    "\n",
    "\n",
    "for results in response[\"Entities\"]:\n",
    "    print(\"Entity Type : \" + str(results[\"Type\"]) +\"        Entity : \"+str(results[\"Text\"])+  \"        Score : \"+ str(round(results[\"Score\"]*100, 2)))\n"
   ]
  },
  {
   "cell_type": "code",
   "execution_count": 57,
   "metadata": {},
   "outputs": [
    {
     "data": {
      "text/plain": [
       "[{'Score': 0.9996871948242188,\n",
       "  'Type': 'COMPANY_NAME',\n",
       "  'Text': 'BROUR',\n",
       "  'BlockReferences': [{'BlockId': '6546aec1-2668-445c-811e-c4840b74d2f0',\n",
       "    'BeginOffset': 0,\n",
       "    'EndOffset': 5,\n",
       "    'ChildBlocks': [{'ChildBlockId': 'a030a342-9c29-44ce-8eb3-f41aa6c5a937',\n",
       "      'BeginOffset': 0,\n",
       "      'EndOffset': 5}]}]},\n",
       " {'Score': 0.9995077848434448,\n",
       "  'Type': 'REMIT_TO_ADDRESS_STREET',\n",
       "  'Text': '12 Commonwealth Drive',\n",
       "  'BlockReferences': [{'BlockId': '01d01f7f-11e0-4ada-872d-4056d36cb231',\n",
       "    'BeginOffset': 0,\n",
       "    'EndOffset': 21,\n",
       "    'ChildBlocks': [{'ChildBlockId': 'bc3b46f7-58a3-4aaa-a311-c915c4414025',\n",
       "      'BeginOffset': 0,\n",
       "      'EndOffset': 2},\n",
       "     {'ChildBlockId': 'e6f175d6-06e5-48bc-a367-6d98d923476e',\n",
       "      'BeginOffset': 0,\n",
       "      'EndOffset': 12},\n",
       "     {'ChildBlockId': '6447b834-8bf7-4f4e-ad65-6ddddd8d4c65',\n",
       "      'BeginOffset': 0,\n",
       "      'EndOffset': 5}]}]},\n",
       " {'Score': 0.9987666606903076,\n",
       "  'Type': 'INVOICE_NUMBER',\n",
       "  'Text': '124567AB',\n",
       "  'BlockReferences': [{'BlockId': '20fd4678-11a6-413f-baa2-f7139f53d32e',\n",
       "    'BeginOffset': 10,\n",
       "    'EndOffset': 18,\n",
       "    'ChildBlocks': [{'ChildBlockId': '788a3b85-07e3-42cd-89be-705be956263a',\n",
       "      'BeginOffset': 0,\n",
       "      'EndOffset': 8}]}]},\n",
       " {'Score': 0.9995243549346924,\n",
       "  'Type': 'SHIP_TO_ADDRESS_COUNTRY',\n",
       "  'Text': 'Singapore',\n",
       "  'BlockReferences': [{'BlockId': 'ada6b159-1aaa-4c94-bd40-8501ac592593',\n",
       "    'BeginOffset': 0,\n",
       "    'EndOffset': 9,\n",
       "    'ChildBlocks': [{'ChildBlockId': '8a9a9bd5-8972-4b67-86ab-7ab3c6a55034',\n",
       "      'BeginOffset': 0,\n",
       "      'EndOffset': 9}]}]},\n",
       " {'Score': 0.9953565001487732,\n",
       "  'Type': 'REMIT_TO_ADDRESS_ZIP_CODE',\n",
       "  'Text': 'S143023',\n",
       "  'BlockReferences': [{'BlockId': 'ada6b159-1aaa-4c94-bd40-8501ac592593',\n",
       "    'BeginOffset': 11,\n",
       "    'EndOffset': 18,\n",
       "    'ChildBlocks': [{'ChildBlockId': 'c57c4dca-14fb-4d30-9b5f-91fe391dd17f',\n",
       "      'BeginOffset': 0,\n",
       "      'EndOffset': 7}]}]},\n",
       " {'Score': 0.9997490048408508,\n",
       "  'Type': 'INVOICE_DATE',\n",
       "  'Text': '04/05/2022',\n",
       "  'BlockReferences': [{'BlockId': '8d17b465-ec3d-41e7-8a7b-6b31ca02f8e4',\n",
       "    'BeginOffset': 6,\n",
       "    'EndOffset': 16,\n",
       "    'ChildBlocks': [{'ChildBlockId': 'a00a3393-8a9e-45c4-99f6-2f2ff11ea8d2',\n",
       "      'BeginOffset': 0,\n",
       "      'EndOffset': 10}]}]},\n",
       " {'Score': 0.9994648694992065,\n",
       "  'Type': 'SHIP_TO_ADDRESS_OTHERS',\n",
       "  'Text': 'Phone:',\n",
       "  'BlockReferences': [{'BlockId': '18e58f41-b498-449d-afd0-814071e270fc',\n",
       "    'BeginOffset': 0,\n",
       "    'EndOffset': 6,\n",
       "    'ChildBlocks': [{'ChildBlockId': '7fc22e58-5a52-4aa1-a7ad-ad72f9c87595',\n",
       "      'BeginOffset': 0,\n",
       "      'EndOffset': 6},\n",
       "     {'ChildBlockId': '7fc22e58-5a52-4aa1-a7ad-ad72f9c87595',\n",
       "      'BeginOffset': 0,\n",
       "      'EndOffset': 6}]}]},\n",
       " {'Score': 0.9996899962425232,\n",
       "  'Type': 'SHIP_TO_ADDRESS_STREET',\n",
       "  'Text': 'WeCan Halt Road #28-01',\n",
       "  'BlockReferences': [{'BlockId': 'f569d42e-4dfc-428f-9ac0-3d7249f96626',\n",
       "    'BeginOffset': 0,\n",
       "    'EndOffset': 22,\n",
       "    'ChildBlocks': [{'ChildBlockId': '094c6911-909e-41ae-a569-89460f5f410c',\n",
       "      'BeginOffset': 0,\n",
       "      'EndOffset': 5},\n",
       "     {'ChildBlockId': '01485894-d7f3-492f-8a6b-73a442c1e9e9',\n",
       "      'BeginOffset': 0,\n",
       "      'EndOffset': 4},\n",
       "     {'ChildBlockId': 'c12f1c14-4481-4978-a19e-30c05f4565db',\n",
       "      'BeginOffset': 0,\n",
       "      'EndOffset': 4},\n",
       "     {'ChildBlockId': '58282822-edad-48e4-98c8-bac9ed9d0ccd',\n",
       "      'BeginOffset': 0,\n",
       "      'EndOffset': 6},\n",
       "     {'ChildBlockId': '58282822-edad-48e4-98c8-bac9ed9d0ccd',\n",
       "      'BeginOffset': 0,\n",
       "      'EndOffset': 6}]}]},\n",
       " {'Score': 0.9991742968559265,\n",
       "  'Type': 'SHIP_TO_ADDRESS_ZIP_CODE',\n",
       "  'Text': 'S123456',\n",
       "  'BlockReferences': [{'BlockId': '48c96da5-c6a2-4d42-8721-09f606456afd',\n",
       "    'BeginOffset': 11,\n",
       "    'EndOffset': 18,\n",
       "    'ChildBlocks': [{'ChildBlockId': 'fee7e63d-cb27-4fc3-9651-9b030407b9c0',\n",
       "      'BeginOffset': 0,\n",
       "      'EndOffset': 7}]}]},\n",
       " {'Score': 0.9976849555969238,\n",
       "  'Type': 'SHIP_TO_ADDRESS_OTHERS',\n",
       "  'Text': '123445',\n",
       "  'BlockReferences': [{'BlockId': '1b7a8275-99cc-4a10-ab6a-1fd0d9f5899b',\n",
       "    'BeginOffset': 7,\n",
       "    'EndOffset': 13,\n",
       "    'ChildBlocks': [{'ChildBlockId': 'b4d1bda9-3354-460e-8401-fe3c899f30e0',\n",
       "      'BeginOffset': 0,\n",
       "      'EndOffset': 6}]}]},\n",
       " {'Score': 0.9998849630355835,\n",
       "  'Type': 'INVOICE_AMOUNT',\n",
       "  'Text': '7000',\n",
       "  'BlockReferences': [{'BlockId': '9036f7ef-5bbc-4d0c-9a9c-d46bad56096d',\n",
       "    'BeginOffset': 10,\n",
       "    'EndOffset': 14,\n",
       "    'ChildBlocks': [{'ChildBlockId': 'ca9d6aa8-7dfd-4bc4-9726-292b56bb56b0',\n",
       "      'BeginOffset': 0,\n",
       "      'EndOffset': 4}]}]}]"
      ]
     },
     "execution_count": 57,
     "metadata": {},
     "output_type": "execute_result"
    }
   ],
   "source": [
    "response[\"Entities\"]"
   ]
  },
  {
   "cell_type": "code",
   "execution_count": null,
   "metadata": {},
   "outputs": [],
   "source": []
  }
 ],
 "metadata": {
  "kernelspec": {
   "display_name": "pytorch",
   "language": "python",
   "name": "python3"
  },
  "language_info": {
   "codemirror_mode": {
    "name": "ipython",
    "version": 3
   },
   "file_extension": ".py",
   "mimetype": "text/x-python",
   "name": "python",
   "nbconvert_exporter": "python",
   "pygments_lexer": "ipython3",
   "version": "3.10.13"
  }
 },
 "nbformat": 4,
 "nbformat_minor": 2
}
