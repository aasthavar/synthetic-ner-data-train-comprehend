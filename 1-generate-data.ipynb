{
 "cells": [
  {
   "cell_type": "markdown",
   "metadata": {},
   "source": [
    "Objectives\n",
    "\n",
    "- Dataset\n",
    "    - use dummy data and complete 1 round -> train + eval\n",
    "    - use better competitive/challenging datasets - below is for inspiration\n",
    "        - https://colab.research.google.com/drive/1o8-Km-kVHtOcdEd7i9uPY6vXg7MyCN0B?usp=sharing\n",
    "\n",
    "        - https://medium.com/analytics-vidhya/extracting-structured-data-from-invoice-96cf5e548e40\n",
    "        \n",
    "        - https://www.kaggle.com/discussions/general/263960\n",
    "\n",
    "- Extraction\n",
    "    - simple extraction chain\n",
    "    - better prompt engg\n",
    "\n",
    "- Model training\n",
    "\n",
    "- Eval"
   ]
  },
  {
   "cell_type": "markdown",
   "metadata": {},
   "source": [
    "Steps\n",
    "1. create documents\n",
    "2. define the desired extracted output schema\n",
    "3. construct prompt\n",
    "4. define llm\n",
    "5. define output parser\n",
    "6. construct chain\n",
    "7. batch invoke\n",
    "8. visualize data\n",
    "9. save as .csv"
   ]
  },
  {
   "cell_type": "code",
   "execution_count": null,
   "metadata": {},
   "outputs": [],
   "source": [
    "# ! pip install -qU \"amazon-textract-caller>=0.2.0\" amazon-textract-textractor"
   ]
  },
  {
   "cell_type": "markdown",
   "metadata": {},
   "source": [
    "### create documents"
   ]
  },
  {
   "cell_type": "code",
   "execution_count": 1,
   "metadata": {},
   "outputs": [],
   "source": [
    "# test for one file\n",
    "\n",
    "from langchain_community.document_loaders import AmazonTextractPDFLoader\n",
    "from textractor.data.text_linearization_config import TextLinearizationConfig\n",
    "\n",
    "# loader = AmazonTextractPDFLoader(\n",
    "#     file_path=\"data/invoice2.pdf\",\n",
    "#     textract_features=[\"LAYOUT\"],\n",
    "#     linearization_config=TextLinearizationConfig(\n",
    "#         hide_header_layout=True,\n",
    "#         hide_footer_layout=True,\n",
    "#         hide_figure_layout=True,\n",
    "#     ),\n",
    "# )\n",
    "\n",
    "# docs = loader.load()\n",
    "# print(docs[0].page_content)"
   ]
  },
  {
   "cell_type": "code",
   "execution_count": 2,
   "metadata": {},
   "outputs": [
    {
     "name": "stdout",
     "output_type": "stream",
     "text": [
      "invoices_dir_path: data/\n",
      "files_count: 7\n",
      "error_files count: 0\n",
      "docs completed count: 7\n",
      "CPU times: user 581 ms, sys: 45.8 ms, total: 627 ms\n",
      "Wall time: 25.1 s\n"
     ]
    }
   ],
   "source": [
    "%%time\n",
    "# for all pdfs in a folder\n",
    "\n",
    "import os\n",
    "invoices_dir_path = \"data/\"\n",
    "files = []\n",
    "for file in os.listdir(invoices_dir_path):\n",
    "    file_path = os.path.join(invoices_dir_path, file)\n",
    "    files.append(file_path)\n",
    "print(f\"invoices_dir_path: {invoices_dir_path}\\nfiles_count: {len(files)}\")\n",
    "\n",
    "\n",
    "docs = []\n",
    "error_files = []\n",
    "for file in files:\n",
    "    try:\n",
    "        loader = AmazonTextractPDFLoader(\n",
    "            file_path=file,\n",
    "            textract_features=[\"LAYOUT\"],\n",
    "            linearization_config=TextLinearizationConfig(\n",
    "                hide_header_layout=True,\n",
    "                hide_footer_layout=True,\n",
    "                hide_figure_layout=True,\n",
    "            ),\n",
    "        )\n",
    "        file_docs = loader.load()\n",
    "        docs.extend(file_docs)\n",
    "    except Exception as e:\n",
    "        print(f\"Failed for file: {file}\")\n",
    "        print(f\"error: {e}\")\n",
    "        error_files.append(file)\n",
    "\n",
    "print(f\"error_files count: {len(error_files)}\")\n",
    "print(f\"docs completed count: {len(docs)}\")"
   ]
  },
  {
   "cell_type": "markdown",
   "metadata": {},
   "source": [
    "### define schema"
   ]
  },
  {
   "cell_type": "code",
   "execution_count": 12,
   "metadata": {},
   "outputs": [],
   "source": [
    "from typing import Optional, List\n",
    "from langchain_core.pydantic_v1 import BaseModel, Field\n",
    "\n",
    "\n",
    "# INVOICE_NUMBER, INVOICE_DATE, ACCOUNT_NUMBER, PO_NUMBER, VENDOR_NAME, COMPANY_NAME\n",
    "# REMIT_TO_ADDRESS: [STREET, CITY, STATE, COUNTRY, ZIP, OTHERS]\n",
    "# SHIP_TO_ADDRESS: [STREET, CITY, STATE, COUNTRY, ZIP, OTHERS]\n",
    "# NET_AMOUNT, FREIGHT_AMOUNT, MISCELLANEOUS_CHARGES, PICKUP_CHARGES, SAMPLES_CHARGES, OTHER_CHARGES, INVOICE_AMOUNT, CURRENCY\n",
    "\n",
    "# class Invoice(BaseModel):\n",
    "#     \"\"\"Information about an invoice document\"\"\"\n",
    "#     invoice_number: Optional[str] = Field(..., description=\"The unique number code of invoice\")\n",
    "#     invoice_date: Optional[str] = Field(..., description=\"Date of invoice issue. Extract in this form %Year-%Month-%Day\")\n",
    "#     company_name:  Optional[str] = Field(..., description=\"Name of the company\")\n",
    "#     remit_to_address: Optional[str] = Field(..., description=\"Remittance address to send invoice or payment instructions\")\n",
    "#     ship_to_address: Optional[str] = Field(..., description=\"Delivery Address to send the items/products mentioned in invoice\")\n",
    "#     invoice_amount:  Optional[str] = Field(..., description=\"the total sum of money specified on an invoice including GST, shipping etc. Extract only the number no other symbol\")\n",
    "#     currency:  Optional[str] = Field(..., description=\"he currency in which each item/product will be invoiced and paid\")\n",
    "\n",
    "class Address(BaseModel):\n",
    "    street: Optional[str] = Field(..., description=\"Details of street\")\n",
    "    city: Optional[str] = Field(..., description=\"Name of city\")\n",
    "    state: Optional[str] = Field(..., description=\"Name of state\")\n",
    "    country: Optional[str] = Field(..., description=\"Name of the country\")\n",
    "    zip_code: Optional[str] = Field(..., description=\"zip code details\")\n",
    "    others:  Optional[str] = Field(..., description=\"Everything else that's part of address like phone number, etc\")\n",
    "\n",
    "class LineItem(BaseModel):\n",
    "    \"\"\"Information about a line item in an invoice\"\"\"\n",
    "    name:  Optional[str] = Field(..., description=\"The name of the line item\")\n",
    "    description:  Optional[str] = Field(..., description=\"The description of the line item\")\n",
    "    quantity:  Optional[str] = Field(..., description=\"Unit quantity or count of the line item ordered\")\n",
    "    unit_price: Optional[str] = Field(..., description=\"Unit price of single line item\")\n",
    "    total_amount:   Optional[str] = Field(..., description=\"Total amount. Its the product of unit price and quantity\")\n",
    "    \n",
    "\n",
    "class Invoice(BaseModel):\n",
    "    \"\"\"Information about an invoice document\"\"\"\n",
    "    invoice_number: Optional[str] = Field(..., description=\"The unique number code of invoice\")\n",
    "    invoice_date: Optional[str] = Field(..., description=\"Date of invoice issued\")\n",
    "    company_name:  Optional[str] = Field(..., description=\"Name of the company\")\n",
    "    remit_to_address: Optional[Address] = Field(..., description=\"Remittance address to send invoice or payment instructions\")\n",
    "    ship_to_address: Optional[Address] = Field(..., description=\"Delivery Address to send the items/products mentioned in invoice\")\n",
    "    invoice_amount:  Optional[str] = Field(..., description=\"the total sum of money specified on an invoice including GST, shipping etc. Extract only the number no other symbol\")\n",
    "    currency:  Optional[str] = Field(..., description=\"he currency in which each item/product will be invoiced and paid\")\n",
    "    items: List[LineItem]"
   ]
  },
  {
   "cell_type": "markdown",
   "metadata": {},
   "source": [
    "### construct prompt"
   ]
  },
  {
   "cell_type": "code",
   "execution_count": 13,
   "metadata": {},
   "outputs": [
    {
     "name": "stdout",
     "output_type": "stream",
     "text": [
      "================================\u001b[1m System Message \u001b[0m================================\n",
      "\n",
      "You are an expert at extracting relevant information from text. If you do not know the value of an attribute asked to extract, return null for the attribute's value.\n",
      "\u001b[33;1m\u001b[1;3m{format_instructions}\u001b[0m\n",
      "\n",
      "================================\u001b[1m Human Message \u001b[0m=================================\n",
      "\n",
      "Make sure to wrap the answer in ```json and ``` tags. \n",
      "\u001b[33;1m\u001b[1;3m{text}\u001b[0m\n"
     ]
    }
   ],
   "source": [
    "from langchain_core.prompts import ChatPromptTemplate\n",
    "\n",
    "prompt = ChatPromptTemplate.from_messages([\n",
    "    (\n",
    "        \"system\", \n",
    "        \"You are an expert at extracting relevant information from text. \"\n",
    "        \"If you do not know the value of an attribute asked to extract, \"\n",
    "        \"return null for the attribute's value.\"\n",
    "        \"\\n{format_instructions}\",\n",
    "    ),\n",
    "    (\n",
    "        \"human\",\n",
    "        \"Make sure to wrap the answer in ```json and ``` tags. \\n\"\n",
    "        \"{text}\",\n",
    "    )\n",
    "])\n",
    "\n",
    "prompt.pretty_print()"
   ]
  },
  {
   "cell_type": "markdown",
   "metadata": {},
   "source": [
    "### define llm"
   ]
  },
  {
   "cell_type": "code",
   "execution_count": 14,
   "metadata": {},
   "outputs": [],
   "source": [
    "import boto3\n",
    "from langchain_community.chat_models import BedrockChat\n",
    "\n",
    "llm = BedrockChat(\n",
    "    model_id=\"anthropic.claude-3-haiku-20240307-v1:0\",\n",
    "    # model_id=\"anthropic.claude-3-sonnet-20240229-v1:0\",\n",
    "    client=boto3.client(\"bedrock-runtime\"),\n",
    "    model_kwargs={\"temperature\": 0.0, \"max_tokens\":512}\n",
    ")"
   ]
  },
  {
   "cell_type": "markdown",
   "metadata": {},
   "source": [
    "### define output parser"
   ]
  },
  {
   "cell_type": "code",
   "execution_count": 15,
   "metadata": {},
   "outputs": [
    {
     "name": "stdout",
     "output_type": "stream",
     "text": [
      "The output should be formatted as a JSON instance that conforms to the JSON schema below.\n",
      "\n",
      "As an example, for the schema {\"properties\": {\"foo\": {\"title\": \"Foo\", \"description\": \"a list of strings\", \"type\": \"array\", \"items\": {\"type\": \"string\"}}}, \"required\": [\"foo\"]}\n",
      "the object {\"foo\": [\"bar\", \"baz\"]} is a well-formatted instance of the schema. The object {\"properties\": {\"foo\": [\"bar\", \"baz\"]}} is not well-formatted.\n",
      "\n",
      "Here is the output schema:\n",
      "```\n",
      "{\"description\": \"Information about an invoice document\", \"properties\": {\"invoice_number\": {\"title\": \"Invoice Number\", \"description\": \"The unique number code of invoice\", \"type\": \"string\"}, \"invoice_date\": {\"title\": \"Invoice Date\", \"description\": \"Date of invoice issued\", \"type\": \"string\"}, \"company_name\": {\"title\": \"Company Name\", \"description\": \"Name of the company\", \"type\": \"string\"}, \"remit_to_address\": {\"title\": \"Remit To Address\", \"description\": \"Remittance address to send invoice or payment instructions\", \"allOf\": [{\"$ref\": \"#/definitions/Address\"}]}, \"ship_to_address\": {\"title\": \"Ship To Address\", \"description\": \"Delivery Address to send the items/products mentioned in invoice\", \"allOf\": [{\"$ref\": \"#/definitions/Address\"}]}, \"invoice_amount\": {\"title\": \"Invoice Amount\", \"description\": \"the total sum of money specified on an invoice including GST, shipping etc. Extract only the number no other symbol\", \"type\": \"string\"}, \"currency\": {\"title\": \"Currency\", \"description\": \"he currency in which each item/product will be invoiced and paid\", \"type\": \"string\"}, \"items\": {\"title\": \"Items\", \"type\": \"array\", \"items\": {\"$ref\": \"#/definitions/LineItem\"}}}, \"required\": [\"invoice_number\", \"invoice_date\", \"company_name\", \"remit_to_address\", \"ship_to_address\", \"invoice_amount\", \"currency\", \"items\"], \"definitions\": {\"Address\": {\"title\": \"Address\", \"type\": \"object\", \"properties\": {\"street\": {\"title\": \"Street\", \"description\": \"Details of street\", \"type\": \"string\"}, \"city\": {\"title\": \"City\", \"description\": \"Name of city\", \"type\": \"string\"}, \"state\": {\"title\": \"State\", \"description\": \"Name of state\", \"type\": \"string\"}, \"country\": {\"title\": \"Country\", \"description\": \"Name of the country\", \"type\": \"string\"}, \"zip_code\": {\"title\": \"Zip Code\", \"description\": \"zip code details\", \"type\": \"string\"}, \"others\": {\"title\": \"Others\", \"description\": \"Everything else that's part of address like phone number, etc\", \"type\": \"string\"}}, \"required\": [\"street\", \"city\", \"state\", \"country\", \"zip_code\", \"others\"]}, \"LineItem\": {\"title\": \"LineItem\", \"description\": \"Information about a line item in an invoice\", \"type\": \"object\", \"properties\": {\"name\": {\"title\": \"Name\", \"description\": \"The name of the line item\", \"type\": \"string\"}, \"description\": {\"title\": \"Description\", \"description\": \"The description of the line item\", \"type\": \"string\"}, \"quantity\": {\"title\": \"Quantity\", \"description\": \"Unit quantity or count of the line item ordered\", \"type\": \"string\"}, \"unit_price\": {\"title\": \"Unit Price\", \"description\": \"Unit price of single line item\", \"type\": \"string\"}, \"total_amount\": {\"title\": \"Total Amount\", \"description\": \"Total amount. Its the product of unit price and quantity\", \"type\": \"string\"}}, \"required\": [\"name\", \"description\", \"quantity\", \"unit_price\", \"total_amount\"]}}}\n",
      "```\n"
     ]
    }
   ],
   "source": [
    "# 2. c. define the output parser\n",
    "from langchain.output_parsers import PydanticOutputParser\n",
    "\n",
    "output_parser = PydanticOutputParser(pydantic_object=Invoice)\n",
    "print(output_parser.get_format_instructions())\n",
    "\n",
    "prompt = prompt.partial(format_instructions=output_parser.get_format_instructions())\n",
    "# prompt.pretty_print()"
   ]
  },
  {
   "cell_type": "markdown",
   "metadata": {},
   "source": [
    "### construct chain"
   ]
  },
  {
   "cell_type": "code",
   "execution_count": 16,
   "metadata": {},
   "outputs": [],
   "source": [
    "extract_chain = prompt | llm | output_parser"
   ]
  },
  {
   "cell_type": "markdown",
   "metadata": {},
   "source": [
    "### batch invoke"
   ]
  },
  {
   "cell_type": "markdown",
   "metadata": {},
   "source": [
    "#### test for one file"
   ]
  },
  {
   "cell_type": "code",
   "execution_count": 17,
   "metadata": {},
   "outputs": [],
   "source": [
    "# test for one file\n",
    "from langchain_community.document_loaders import AmazonTextractPDFLoader\n",
    "from textractor.data.text_linearization_config import TextLinearizationConfig\n",
    "\n",
    "# file_path=\"data/invoice1.pdf\"\n",
    "file_path=\"data/invoice2.pdf\"\n",
    "\n",
    "loader = AmazonTextractPDFLoader(\n",
    "    file_path=file_path,\n",
    "    textract_features=[\"LAYOUT\"],\n",
    "    linearization_config=TextLinearizationConfig(\n",
    "        hide_header_layout=True,\n",
    "        hide_footer_layout=True,\n",
    "        hide_figure_layout=True,\n",
    "    ),\n",
    ")\n",
    "\n",
    "file_docs = loader.load()"
   ]
  },
  {
   "cell_type": "code",
   "execution_count": 19,
   "metadata": {},
   "outputs": [
    {
     "ename": "OutputParserException",
     "evalue": "Failed to parse Invoice from completion {'invoice_number': 'CI-19-00017', 'invoice_date': '09/24/2019', 'company_name': 'Release agency', 'remit_to_address': {'street': '2020 Gnatty Creek Road', 'city': 'New York', 'state': None, 'country': 'United States', 'zip_code': '11716', 'others': None}, 'ship_to_address': {'street': '3247 Apple Lane', 'city': 'Dunlap', 'state': None, 'country': 'United States', 'zip_code': '61525', 'others': 'Company ID 5 VAT ID'}, 'invoice_amount': '19819.80', 'currency': 'EUR', 'items': [{'name': 'Creative work', 'description': None, 'quantity': '8.00', 'unit_price': '90.00', 'total_amount': '720.00'}, {'name': 'Account management', 'description': None, 'quantity': '10.00', 'unit_price': '70.00', 'total_amount': '700.00'}, {'name': 'Production services', 'description': None, 'quantity': '7.00', 'unit_price': '80.00', 'total_amount': '560.00'}, {'name': 'External development', 'description': None, 'quantity': '1.00', 'unit_price': '1500.00', 'total_amount': '1500.00'}, {'name': 'Other services', 'description': None, 'quantity': '6.00', 'unit_price': '2000.00', 'total_amount': '12000.00'}, {}]}. Got: 5 validation errors for Invoice\nitems -> 5 -> name\n  field required (type=value_error.missing)\nitems -> 5 -> description\n  field required (type=value_error.missing)\nitems -> 5 -> quantity\n  field required (type=value_error.missing)\nitems -> 5 -> unit_price\n  field required (type=value_error.missing)\nitems -> 5 -> total_amount\n  field required (type=value_error.missing)",
     "output_type": "error",
     "traceback": [
      "\u001b[0;31m---------------------------------------------------------------------------\u001b[0m",
      "\u001b[0;31mValidationError\u001b[0m                           Traceback (most recent call last)",
      "File \u001b[0;32m/opt/conda/envs/pytorch/lib/python3.10/site-packages/langchain_core/output_parsers/pydantic.py:27\u001b[0m, in \u001b[0;36mPydanticOutputParser.parse_result\u001b[0;34m(self, result, partial)\u001b[0m\n\u001b[1;32m     26\u001b[0m \u001b[38;5;28;01mtry\u001b[39;00m:\n\u001b[0;32m---> 27\u001b[0m     \u001b[38;5;28;01mreturn\u001b[39;00m \u001b[38;5;28;43mself\u001b[39;49m\u001b[38;5;241;43m.\u001b[39;49m\u001b[43mpydantic_object\u001b[49m\u001b[38;5;241;43m.\u001b[39;49m\u001b[43mparse_obj\u001b[49m\u001b[43m(\u001b[49m\u001b[43mjson_object\u001b[49m\u001b[43m)\u001b[49m\n\u001b[1;32m     28\u001b[0m \u001b[38;5;28;01mexcept\u001b[39;00m ValidationError \u001b[38;5;28;01mas\u001b[39;00m e:\n",
      "File \u001b[0;32m/opt/conda/envs/pytorch/lib/python3.10/site-packages/pydantic/main.py:526\u001b[0m, in \u001b[0;36mpydantic.main.BaseModel.parse_obj\u001b[0;34m()\u001b[0m\n",
      "File \u001b[0;32m/opt/conda/envs/pytorch/lib/python3.10/site-packages/pydantic/main.py:341\u001b[0m, in \u001b[0;36mpydantic.main.BaseModel.__init__\u001b[0;34m()\u001b[0m\n",
      "\u001b[0;31mValidationError\u001b[0m: 5 validation errors for Invoice\nitems -> 5 -> name\n  field required (type=value_error.missing)\nitems -> 5 -> description\n  field required (type=value_error.missing)\nitems -> 5 -> quantity\n  field required (type=value_error.missing)\nitems -> 5 -> unit_price\n  field required (type=value_error.missing)\nitems -> 5 -> total_amount\n  field required (type=value_error.missing)",
      "\nDuring handling of the above exception, another exception occurred:\n",
      "\u001b[0;31mOutputParserException\u001b[0m                     Traceback (most recent call last)",
      "File \u001b[0;32m<timed exec>:2\u001b[0m\n",
      "File \u001b[0;32m/opt/conda/envs/pytorch/lib/python3.10/site-packages/langchain_core/runnables/base.py:2218\u001b[0m, in \u001b[0;36mRunnableSequence.invoke\u001b[0;34m(self, input, config)\u001b[0m\n\u001b[1;32m   2216\u001b[0m \u001b[38;5;28;01mtry\u001b[39;00m:\n\u001b[1;32m   2217\u001b[0m     \u001b[38;5;28;01mfor\u001b[39;00m i, step \u001b[38;5;129;01min\u001b[39;00m \u001b[38;5;28menumerate\u001b[39m(\u001b[38;5;28mself\u001b[39m\u001b[38;5;241m.\u001b[39msteps):\n\u001b[0;32m-> 2218\u001b[0m         \u001b[38;5;28minput\u001b[39m \u001b[38;5;241m=\u001b[39m \u001b[43mstep\u001b[49m\u001b[38;5;241;43m.\u001b[39;49m\u001b[43minvoke\u001b[49m\u001b[43m(\u001b[49m\n\u001b[1;32m   2219\u001b[0m \u001b[43m            \u001b[49m\u001b[38;5;28;43minput\u001b[39;49m\u001b[43m,\u001b[49m\n\u001b[1;32m   2220\u001b[0m \u001b[43m            \u001b[49m\u001b[38;5;66;43;03m# mark each step as a child run\u001b[39;49;00m\n\u001b[1;32m   2221\u001b[0m \u001b[43m            \u001b[49m\u001b[43mpatch_config\u001b[49m\u001b[43m(\u001b[49m\n\u001b[1;32m   2222\u001b[0m \u001b[43m                \u001b[49m\u001b[43mconfig\u001b[49m\u001b[43m,\u001b[49m\u001b[43m \u001b[49m\u001b[43mcallbacks\u001b[49m\u001b[38;5;241;43m=\u001b[39;49m\u001b[43mrun_manager\u001b[49m\u001b[38;5;241;43m.\u001b[39;49m\u001b[43mget_child\u001b[49m\u001b[43m(\u001b[49m\u001b[38;5;124;43mf\u001b[39;49m\u001b[38;5;124;43m\"\u001b[39;49m\u001b[38;5;124;43mseq:step:\u001b[39;49m\u001b[38;5;132;43;01m{\u001b[39;49;00m\u001b[43mi\u001b[49m\u001b[38;5;241;43m+\u001b[39;49m\u001b[38;5;241;43m1\u001b[39;49m\u001b[38;5;132;43;01m}\u001b[39;49;00m\u001b[38;5;124;43m\"\u001b[39;49m\u001b[43m)\u001b[49m\n\u001b[1;32m   2223\u001b[0m \u001b[43m            \u001b[49m\u001b[43m)\u001b[49m\u001b[43m,\u001b[49m\n\u001b[1;32m   2224\u001b[0m \u001b[43m        \u001b[49m\u001b[43m)\u001b[49m\n\u001b[1;32m   2225\u001b[0m \u001b[38;5;66;03m# finish the root run\u001b[39;00m\n\u001b[1;32m   2226\u001b[0m \u001b[38;5;28;01mexcept\u001b[39;00m \u001b[38;5;167;01mBaseException\u001b[39;00m \u001b[38;5;28;01mas\u001b[39;00m e:\n",
      "File \u001b[0;32m/opt/conda/envs/pytorch/lib/python3.10/site-packages/langchain_core/output_parsers/base.py:169\u001b[0m, in \u001b[0;36mBaseOutputParser.invoke\u001b[0;34m(self, input, config)\u001b[0m\n\u001b[1;32m    165\u001b[0m \u001b[38;5;28;01mdef\u001b[39;00m \u001b[38;5;21minvoke\u001b[39m(\n\u001b[1;32m    166\u001b[0m     \u001b[38;5;28mself\u001b[39m, \u001b[38;5;28minput\u001b[39m: Union[\u001b[38;5;28mstr\u001b[39m, BaseMessage], config: Optional[RunnableConfig] \u001b[38;5;241m=\u001b[39m \u001b[38;5;28;01mNone\u001b[39;00m\n\u001b[1;32m    167\u001b[0m ) \u001b[38;5;241m-\u001b[39m\u001b[38;5;241m>\u001b[39m T:\n\u001b[1;32m    168\u001b[0m     \u001b[38;5;28;01mif\u001b[39;00m \u001b[38;5;28misinstance\u001b[39m(\u001b[38;5;28minput\u001b[39m, BaseMessage):\n\u001b[0;32m--> 169\u001b[0m         \u001b[38;5;28;01mreturn\u001b[39;00m \u001b[38;5;28;43mself\u001b[39;49m\u001b[38;5;241;43m.\u001b[39;49m\u001b[43m_call_with_config\u001b[49m\u001b[43m(\u001b[49m\n\u001b[1;32m    170\u001b[0m \u001b[43m            \u001b[49m\u001b[38;5;28;43;01mlambda\u001b[39;49;00m\u001b[43m \u001b[49m\u001b[43minner_input\u001b[49m\u001b[43m:\u001b[49m\u001b[43m \u001b[49m\u001b[38;5;28;43mself\u001b[39;49m\u001b[38;5;241;43m.\u001b[39;49m\u001b[43mparse_result\u001b[49m\u001b[43m(\u001b[49m\n\u001b[1;32m    171\u001b[0m \u001b[43m                \u001b[49m\u001b[43m[\u001b[49m\u001b[43mChatGeneration\u001b[49m\u001b[43m(\u001b[49m\u001b[43mmessage\u001b[49m\u001b[38;5;241;43m=\u001b[39;49m\u001b[43minner_input\u001b[49m\u001b[43m)\u001b[49m\u001b[43m]\u001b[49m\n\u001b[1;32m    172\u001b[0m \u001b[43m            \u001b[49m\u001b[43m)\u001b[49m\u001b[43m,\u001b[49m\n\u001b[1;32m    173\u001b[0m \u001b[43m            \u001b[49m\u001b[38;5;28;43minput\u001b[39;49m\u001b[43m,\u001b[49m\n\u001b[1;32m    174\u001b[0m \u001b[43m            \u001b[49m\u001b[43mconfig\u001b[49m\u001b[43m,\u001b[49m\n\u001b[1;32m    175\u001b[0m \u001b[43m            \u001b[49m\u001b[43mrun_type\u001b[49m\u001b[38;5;241;43m=\u001b[39;49m\u001b[38;5;124;43m\"\u001b[39;49m\u001b[38;5;124;43mparser\u001b[39;49m\u001b[38;5;124;43m\"\u001b[39;49m\u001b[43m,\u001b[49m\n\u001b[1;32m    176\u001b[0m \u001b[43m        \u001b[49m\u001b[43m)\u001b[49m\n\u001b[1;32m    177\u001b[0m     \u001b[38;5;28;01melse\u001b[39;00m:\n\u001b[1;32m    178\u001b[0m         \u001b[38;5;28;01mreturn\u001b[39;00m \u001b[38;5;28mself\u001b[39m\u001b[38;5;241m.\u001b[39m_call_with_config(\n\u001b[1;32m    179\u001b[0m             \u001b[38;5;28;01mlambda\u001b[39;00m inner_input: \u001b[38;5;28mself\u001b[39m\u001b[38;5;241m.\u001b[39mparse_result([Generation(text\u001b[38;5;241m=\u001b[39minner_input)]),\n\u001b[1;32m    180\u001b[0m             \u001b[38;5;28minput\u001b[39m,\n\u001b[1;32m    181\u001b[0m             config,\n\u001b[1;32m    182\u001b[0m             run_type\u001b[38;5;241m=\u001b[39m\u001b[38;5;124m\"\u001b[39m\u001b[38;5;124mparser\u001b[39m\u001b[38;5;124m\"\u001b[39m,\n\u001b[1;32m    183\u001b[0m         )\n",
      "File \u001b[0;32m/opt/conda/envs/pytorch/lib/python3.10/site-packages/langchain_core/runnables/base.py:1405\u001b[0m, in \u001b[0;36mRunnable._call_with_config\u001b[0;34m(self, func, input, config, run_type, **kwargs)\u001b[0m\n\u001b[1;32m   1401\u001b[0m     context \u001b[38;5;241m=\u001b[39m copy_context()\n\u001b[1;32m   1402\u001b[0m     context\u001b[38;5;241m.\u001b[39mrun(var_child_runnable_config\u001b[38;5;241m.\u001b[39mset, child_config)\n\u001b[1;32m   1403\u001b[0m     output \u001b[38;5;241m=\u001b[39m cast(\n\u001b[1;32m   1404\u001b[0m         Output,\n\u001b[0;32m-> 1405\u001b[0m         \u001b[43mcontext\u001b[49m\u001b[38;5;241;43m.\u001b[39;49m\u001b[43mrun\u001b[49m\u001b[43m(\u001b[49m\n\u001b[1;32m   1406\u001b[0m \u001b[43m            \u001b[49m\u001b[43mcall_func_with_variable_args\u001b[49m\u001b[43m,\u001b[49m\u001b[43m  \u001b[49m\u001b[38;5;66;43;03m# type: ignore[arg-type]\u001b[39;49;00m\n\u001b[1;32m   1407\u001b[0m \u001b[43m            \u001b[49m\u001b[43mfunc\u001b[49m\u001b[43m,\u001b[49m\u001b[43m  \u001b[49m\u001b[38;5;66;43;03m# type: ignore[arg-type]\u001b[39;49;00m\n\u001b[1;32m   1408\u001b[0m \u001b[43m            \u001b[49m\u001b[38;5;28;43minput\u001b[39;49m\u001b[43m,\u001b[49m\u001b[43m  \u001b[49m\u001b[38;5;66;43;03m# type: ignore[arg-type]\u001b[39;49;00m\n\u001b[1;32m   1409\u001b[0m \u001b[43m            \u001b[49m\u001b[43mconfig\u001b[49m\u001b[43m,\u001b[49m\n\u001b[1;32m   1410\u001b[0m \u001b[43m            \u001b[49m\u001b[43mrun_manager\u001b[49m\u001b[43m,\u001b[49m\n\u001b[1;32m   1411\u001b[0m \u001b[43m            \u001b[49m\u001b[38;5;241;43m*\u001b[39;49m\u001b[38;5;241;43m*\u001b[39;49m\u001b[43mkwargs\u001b[49m\u001b[43m,\u001b[49m\n\u001b[1;32m   1412\u001b[0m \u001b[43m        \u001b[49m\u001b[43m)\u001b[49m,\n\u001b[1;32m   1413\u001b[0m     )\n\u001b[1;32m   1414\u001b[0m \u001b[38;5;28;01mexcept\u001b[39;00m \u001b[38;5;167;01mBaseException\u001b[39;00m \u001b[38;5;28;01mas\u001b[39;00m e:\n\u001b[1;32m   1415\u001b[0m     run_manager\u001b[38;5;241m.\u001b[39mon_chain_error(e)\n",
      "File \u001b[0;32m/opt/conda/envs/pytorch/lib/python3.10/site-packages/langchain_core/runnables/config.py:326\u001b[0m, in \u001b[0;36mcall_func_with_variable_args\u001b[0;34m(func, input, config, run_manager, **kwargs)\u001b[0m\n\u001b[1;32m    324\u001b[0m \u001b[38;5;28;01mif\u001b[39;00m run_manager \u001b[38;5;129;01mis\u001b[39;00m \u001b[38;5;129;01mnot\u001b[39;00m \u001b[38;5;28;01mNone\u001b[39;00m \u001b[38;5;129;01mand\u001b[39;00m accepts_run_manager(func):\n\u001b[1;32m    325\u001b[0m     kwargs[\u001b[38;5;124m\"\u001b[39m\u001b[38;5;124mrun_manager\u001b[39m\u001b[38;5;124m\"\u001b[39m] \u001b[38;5;241m=\u001b[39m run_manager\n\u001b[0;32m--> 326\u001b[0m \u001b[38;5;28;01mreturn\u001b[39;00m \u001b[43mfunc\u001b[49m\u001b[43m(\u001b[49m\u001b[38;5;28;43minput\u001b[39;49m\u001b[43m,\u001b[49m\u001b[43m \u001b[49m\u001b[38;5;241;43m*\u001b[39;49m\u001b[38;5;241;43m*\u001b[39;49m\u001b[43mkwargs\u001b[49m\u001b[43m)\u001b[49m\n",
      "File \u001b[0;32m/opt/conda/envs/pytorch/lib/python3.10/site-packages/langchain_core/output_parsers/base.py:170\u001b[0m, in \u001b[0;36mBaseOutputParser.invoke.<locals>.<lambda>\u001b[0;34m(inner_input)\u001b[0m\n\u001b[1;32m    165\u001b[0m \u001b[38;5;28;01mdef\u001b[39;00m \u001b[38;5;21minvoke\u001b[39m(\n\u001b[1;32m    166\u001b[0m     \u001b[38;5;28mself\u001b[39m, \u001b[38;5;28minput\u001b[39m: Union[\u001b[38;5;28mstr\u001b[39m, BaseMessage], config: Optional[RunnableConfig] \u001b[38;5;241m=\u001b[39m \u001b[38;5;28;01mNone\u001b[39;00m\n\u001b[1;32m    167\u001b[0m ) \u001b[38;5;241m-\u001b[39m\u001b[38;5;241m>\u001b[39m T:\n\u001b[1;32m    168\u001b[0m     \u001b[38;5;28;01mif\u001b[39;00m \u001b[38;5;28misinstance\u001b[39m(\u001b[38;5;28minput\u001b[39m, BaseMessage):\n\u001b[1;32m    169\u001b[0m         \u001b[38;5;28;01mreturn\u001b[39;00m \u001b[38;5;28mself\u001b[39m\u001b[38;5;241m.\u001b[39m_call_with_config(\n\u001b[0;32m--> 170\u001b[0m             \u001b[38;5;28;01mlambda\u001b[39;00m inner_input: \u001b[38;5;28;43mself\u001b[39;49m\u001b[38;5;241;43m.\u001b[39;49m\u001b[43mparse_result\u001b[49m\u001b[43m(\u001b[49m\n\u001b[1;32m    171\u001b[0m \u001b[43m                \u001b[49m\u001b[43m[\u001b[49m\u001b[43mChatGeneration\u001b[49m\u001b[43m(\u001b[49m\u001b[43mmessage\u001b[49m\u001b[38;5;241;43m=\u001b[39;49m\u001b[43minner_input\u001b[49m\u001b[43m)\u001b[49m\u001b[43m]\u001b[49m\n\u001b[1;32m    172\u001b[0m \u001b[43m            \u001b[49m\u001b[43m)\u001b[49m,\n\u001b[1;32m    173\u001b[0m             \u001b[38;5;28minput\u001b[39m,\n\u001b[1;32m    174\u001b[0m             config,\n\u001b[1;32m    175\u001b[0m             run_type\u001b[38;5;241m=\u001b[39m\u001b[38;5;124m\"\u001b[39m\u001b[38;5;124mparser\u001b[39m\u001b[38;5;124m\"\u001b[39m,\n\u001b[1;32m    176\u001b[0m         )\n\u001b[1;32m    177\u001b[0m     \u001b[38;5;28;01melse\u001b[39;00m:\n\u001b[1;32m    178\u001b[0m         \u001b[38;5;28;01mreturn\u001b[39;00m \u001b[38;5;28mself\u001b[39m\u001b[38;5;241m.\u001b[39m_call_with_config(\n\u001b[1;32m    179\u001b[0m             \u001b[38;5;28;01mlambda\u001b[39;00m inner_input: \u001b[38;5;28mself\u001b[39m\u001b[38;5;241m.\u001b[39mparse_result([Generation(text\u001b[38;5;241m=\u001b[39minner_input)]),\n\u001b[1;32m    180\u001b[0m             \u001b[38;5;28minput\u001b[39m,\n\u001b[1;32m    181\u001b[0m             config,\n\u001b[1;32m    182\u001b[0m             run_type\u001b[38;5;241m=\u001b[39m\u001b[38;5;124m\"\u001b[39m\u001b[38;5;124mparser\u001b[39m\u001b[38;5;124m\"\u001b[39m,\n\u001b[1;32m    183\u001b[0m         )\n",
      "File \u001b[0;32m/opt/conda/envs/pytorch/lib/python3.10/site-packages/langchain_core/output_parsers/pydantic.py:31\u001b[0m, in \u001b[0;36mPydanticOutputParser.parse_result\u001b[0;34m(self, result, partial)\u001b[0m\n\u001b[1;32m     29\u001b[0m name \u001b[38;5;241m=\u001b[39m \u001b[38;5;28mself\u001b[39m\u001b[38;5;241m.\u001b[39mpydantic_object\u001b[38;5;241m.\u001b[39m\u001b[38;5;18m__name__\u001b[39m\n\u001b[1;32m     30\u001b[0m msg \u001b[38;5;241m=\u001b[39m \u001b[38;5;124mf\u001b[39m\u001b[38;5;124m\"\u001b[39m\u001b[38;5;124mFailed to parse \u001b[39m\u001b[38;5;132;01m{\u001b[39;00mname\u001b[38;5;132;01m}\u001b[39;00m\u001b[38;5;124m from completion \u001b[39m\u001b[38;5;132;01m{\u001b[39;00mjson_object\u001b[38;5;132;01m}\u001b[39;00m\u001b[38;5;124m. Got: \u001b[39m\u001b[38;5;132;01m{\u001b[39;00me\u001b[38;5;132;01m}\u001b[39;00m\u001b[38;5;124m\"\u001b[39m\n\u001b[0;32m---> 31\u001b[0m \u001b[38;5;28;01mraise\u001b[39;00m OutputParserException(msg, llm_output\u001b[38;5;241m=\u001b[39mjson_object)\n",
      "\u001b[0;31mOutputParserException\u001b[0m: Failed to parse Invoice from completion {'invoice_number': 'CI-19-00017', 'invoice_date': '09/24/2019', 'company_name': 'Release agency', 'remit_to_address': {'street': '2020 Gnatty Creek Road', 'city': 'New York', 'state': None, 'country': 'United States', 'zip_code': '11716', 'others': None}, 'ship_to_address': {'street': '3247 Apple Lane', 'city': 'Dunlap', 'state': None, 'country': 'United States', 'zip_code': '61525', 'others': 'Company ID 5 VAT ID'}, 'invoice_amount': '19819.80', 'currency': 'EUR', 'items': [{'name': 'Creative work', 'description': None, 'quantity': '8.00', 'unit_price': '90.00', 'total_amount': '720.00'}, {'name': 'Account management', 'description': None, 'quantity': '10.00', 'unit_price': '70.00', 'total_amount': '700.00'}, {'name': 'Production services', 'description': None, 'quantity': '7.00', 'unit_price': '80.00', 'total_amount': '560.00'}, {'name': 'External development', 'description': None, 'quantity': '1.00', 'unit_price': '1500.00', 'total_amount': '1500.00'}, {'name': 'Other services', 'description': None, 'quantity': '6.00', 'unit_price': '2000.00', 'total_amount': '12000.00'}, {}]}. Got: 5 validation errors for Invoice\nitems -> 5 -> name\n  field required (type=value_error.missing)\nitems -> 5 -> description\n  field required (type=value_error.missing)\nitems -> 5 -> quantity\n  field required (type=value_error.missing)\nitems -> 5 -> unit_price\n  field required (type=value_error.missing)\nitems -> 5 -> total_amount\n  field required (type=value_error.missing)"
     ]
    }
   ],
   "source": [
    "%%time\n",
    "text = file_docs[0].page_content\n",
    "response = extract_chain.invoke({\"text\": text})\n",
    "response = extract_chain.invoke({\"text\": text})\n",
    "response = extract_chain.invoke({\"text\": text})"
   ]
  },
  {
   "cell_type": "code",
   "execution_count": 20,
   "metadata": {},
   "outputs": [
    {
     "ename": "NameError",
     "evalue": "name 'response' is not defined",
     "output_type": "error",
     "traceback": [
      "\u001b[0;31m---------------------------------------------------------------------------\u001b[0m",
      "\u001b[0;31mNameError\u001b[0m                                 Traceback (most recent call last)",
      "Cell \u001b[0;32mIn[20], line 1\u001b[0m\n\u001b[0;32m----> 1\u001b[0m \u001b[43mresponse\u001b[49m\n",
      "\u001b[0;31mNameError\u001b[0m: name 'response' is not defined"
     ]
    }
   ],
   "source": [
    "response"
   ]
  },
  {
   "cell_type": "markdown",
   "metadata": {},
   "source": [
    "#### for all"
   ]
  },
  {
   "cell_type": "code",
   "execution_count": 21,
   "metadata": {},
   "outputs": [
    {
     "name": "stdout",
     "output_type": "stream",
     "text": [
      "CPU times: user 158 ms, sys: 0 ns, total: 158 ms\n",
      "Wall time: 7.03 s\n"
     ]
    }
   ],
   "source": [
    "%%time\n",
    "\n",
    "extractions = extract_chain.batch(\n",
    "    [{\"text\": doc.page_content} for doc in docs],\n",
    "    {\"max_concurrency\": 5},  # limit the concurrency by passing max concurrency!\n",
    "    return_exceptions=True,\n",
    ")"
   ]
  },
  {
   "cell_type": "code",
   "execution_count": 22,
   "metadata": {},
   "outputs": [
    {
     "data": {
      "text/plain": [
       "[Invoice(invoice_number='181000001348', invoice_date='18-Apr-2019', company_name='Ace Mobile Manufacturer Pvt Ltd', remit_to_address=Address(street='B-209, Park Plaza', city='Lucknow', state='Uttar Pradesh', country='India', zip_code=None, others='GSTIN/UIN: 09AABCS1429B1ZS'), ship_to_address=Address(street='Krishana Palace Road', city='Faizabad', state='Uttar Pradesh', country='India', zip_code=None, others='GSTIN/UIN : 09AAGCA1654H1ZQ'), invoice_amount='96,32,000.00', currency='INR', items=[LineItem(name='Ace A1-Smartphone', description='Batch : Batch 1', quantity='500 Nos', unit_price='6,000.00', total_amount='30,00,000.00'), LineItem(name='Ace A1 Plus-Smartphone', description='Batch : Batch 01', quantity='800 Nos', unit_price='7,000.00', total_amount='56,00,000.00')]),\n",
       " langchain_core.exceptions.OutputParserException(\"Failed to parse Invoice from completion {'invoice_number': 'CI-19-00017', 'invoice_date': '09/24/2019', 'company_name': 'Release agency', 'remit_to_address': {'street': '2020 Gnatty Creek Road', 'city': 'New York', 'state': None, 'country': 'United States', 'zip_code': '11716', 'others': None}, 'ship_to_address': {'street': '3247 Apple Lane', 'city': 'Dunlap', 'state': None, 'country': 'United States', 'zip_code': '61525', 'others': 'Company ID 5 VAT ID'}, 'invoice_amount': '19819.80', 'currency': 'EUR', 'items': [{'name': 'Creative work', 'description': None, 'quantity': '8.00', 'unit_price': '90.00', 'total_amount': '720.00'}, {'name': 'Account management', 'description': None, 'quantity': '10.00', 'unit_price': '70.00', 'total_amount': '700.00'}, {'name': 'Production services', 'description': None, 'quantity': '7.00', 'unit_price': '80.00', 'total_amount': '560.00'}, {'name': 'External development', 'description': None, 'quantity': '1.00', 'unit_price': '1500.00', 'total_amount': '1500.00'}, {'name': 'Other services', 'description': None, 'quantity': '6.00', 'unit_price': '2000.00', 'total_amount': '12000.00'}, {}]}. Got: 5 validation errors for Invoice\\nitems -> 5 -> name\\n  field required (type=value_error.missing)\\nitems -> 5 -> description\\n  field required (type=value_error.missing)\\nitems -> 5 -> quantity\\n  field required (type=value_error.missing)\\nitems -> 5 -> unit_price\\n  field required (type=value_error.missing)\\nitems -> 5 -> total_amount\\n  field required (type=value_error.missing)\"),\n",
       " Invoice(invoice_number='124567AB', invoice_date='04/05/2022', company_name='BROUR', remit_to_address=Address(street='12 Commonwealth Drive', city='Singapore', state=None, country='Singapore', zip_code='S143023', others='Phone: 123452 Fax: 123453'), ship_to_address=Address(street='WeCan Halt Road #28-01', city='Singapore', state=None, country='Singapore', zip_code='S123456', others='Phone: 123445'), invoice_amount='7000', currency='SGD', items=[LineItem(name='Mitsubishi Electric Asia Pte Ltd', description=None, quantity='1', unit_price='740', total_amount='740'), LineItem(name='Samsung Display Asia Pte Ltd', description=None, quantity='1', unit_price='1020', total_amount='1020'), LineItem(name='Rabbit Technology Asia Pte Ltd', description=None, quantity='2', unit_price='500', total_amount='1000'), LineItem(name='Display Technology Pte Ltd', description=None, quantity='1', unit_price='2080', total_amount='2080'), LineItem(name='LED Lighting Tech', description=None, quantity='2', unit_price='860', total_amount='1720')]),\n",
       " Invoice(invoice_number='YOUR LOGO HERE 500 i 70', invoice_date=None, company_name='Your Company', remit_to_address=Address(street='123 Man Street', city='Anytown', state=None, country='USA', zip_code=None, others=None), ship_to_address=Address(street='Address Line 1', city=None, state=None, country=None, zip_code=None, others='Address Line 2'), invoice_amount='6250', currency=None, items=[LineItem(name='Website arreframe for 5 pages', description=None, quantity='10 hours', unit_price='75', total_amount='750'), LineItem(name='Design and layout of 5 pages in Photoshop', description=None, quantity='20 hours', unit_price='75', total_amount='1500'), LineItem(name='Logo design', description=None, quantity='1', unit_price='500', total_amount='500'), LineItem(name='PSD to HTML coding', description=None, quantity='25 hours', unit_price='100', total_amount='2500'), LineItem(name='E-Commerce development', description=None, quantity='10 hours', unit_price='100', total_amount='1000')]),\n",
       " Invoice(invoice_number='1582745827', invoice_date='7/15/22', company_name='Aristris sethren Limited', remit_to_address=Address(street='5900 N. GOLDEN STATE BLVD', city='TURLOCK', state='CA', country='US', zip_code='95382', others=None), ship_to_address=Address(street='7062 PACIFIC AVE', city='PLEASANT GROVE', state='CA', country='US', zip_code='95668', others=None), invoice_amount='105.00', currency='US', items=[LineItem(name='CROSS DOCK PRDC', description=None, quantity='1', unit_price='80.00', total_amount='80.00'), LineItem(name='DELIVERY CHARGE TO CUSTOMER', description=None, quantity='50', unit_price='.50', total_amount='25.00')]),\n",
       " Invoice(invoice_number='INV-42532622', invoice_date='2021-05-23', company_name='Unit 1, Lingkaran Syed Putra Mid Valley City 59200 Kuala Lumpur Wilayah Persekutuan Kuala Lumpur', remit_to_address=Address(street='Unit 999, Lingkaran Syed Putra Mid Valley City', city='Kuala Lumpur', state='Wilayah Persekutuan Kuala Lumpur', country='Malaysia', zip_code='59200', others='Tel: 03-1234 5678'), ship_to_address=Address(street='Unit 999, Lingkaran Syed Putra Mid Valley City', city='Kuala Lumpur', state='Wilayah Persekutuan Kuala Lumpur', country='Malaysia', zip_code='59200', others='Tel: 03-1234 5678'), invoice_amount='35.33', currency='USD', items=[LineItem(name='Lorems ipsum', description=None, quantity='5', unit_price='2.30', total_amount='11.50'), LineItem(name='Consectetur adipiscing el', description=None, quantity='2', unit_price='5.63', total_amount='11.26'), LineItem(name='Quis autem vel eum i', description=None, quantity='3', unit_price='3.63', total_amount='10.89')]),\n",
       " Invoice(invoice_number='XE4289', invoice_date='27-Feb-2020', company_name=None, remit_to_address=Address(street=None, city=None, state=None, country=None, zip_code=None, others='Mr. Venkateswara Rao 9652886877 Hyderabad, ,telangana'), ship_to_address=None, invoice_amount='12244.57', currency=None, items=[LineItem(name='Mobile', description='Nokia 6 Plus Nokia Mobile', quantity='1', unit_price='13000.0', total_amount='13000.0'), LineItem(name='Accessories', description='Skullcandy Wired Earphones', quantity='1', unit_price='1200.0', total_amount='1200.0'), LineItem(name='Other', description='Plug & Play Phone Case', quantity='1', unit_price='325.0', total_amount='325.0')])]"
      ]
     },
     "execution_count": 22,
     "metadata": {},
     "output_type": "execute_result"
    }
   ],
   "source": [
    "extractions"
   ]
  },
  {
   "cell_type": "code",
   "execution_count": 23,
   "metadata": {},
   "outputs": [
    {
     "data": {
      "text/plain": [
       "['data/invoice3.pdf',\n",
       " 'data/invoice2.pdf',\n",
       " 'data/invoice1.pdf',\n",
       " 'data/invoice6.pdf',\n",
       " 'data/invoice0.pdf',\n",
       " 'data/invoice4.pdf',\n",
       " 'data/invoice5.pdf']"
      ]
     },
     "execution_count": 23,
     "metadata": {},
     "output_type": "execute_result"
    }
   ],
   "source": [
    "files"
   ]
  },
  {
   "cell_type": "code",
   "execution_count": 24,
   "metadata": {},
   "outputs": [
    {
     "name": "stdout",
     "output_type": "stream",
     "text": [
      "error count: 1\n",
      "{'invoice_number': '181000001348', 'invoice_date': '18-Apr-2019', 'company_name': 'Ace Mobile Manufacturer Pvt Ltd', 'remit_to_address': {'street': 'B-209, Park Plaza', 'city': 'Lucknow', 'state': 'Uttar Pradesh', 'country': 'India', 'zip_code': None, 'others': 'GSTIN/UIN: 09AABCS1429B1ZS'}, 'ship_to_address': {'street': 'Krishana Palace Road', 'city': 'Faizabad', 'state': 'Uttar Pradesh', 'country': 'India', 'zip_code': None, 'others': 'GSTIN/UIN : 09AAGCA1654H1ZQ'}, 'invoice_amount': '96,32,000.00', 'currency': 'INR', 'items': [{'name': 'Ace A1-Smartphone', 'description': 'Batch : Batch 1', 'quantity': '500 Nos', 'unit_price': '6,000.00', 'total_amount': '30,00,000.00'}, {'name': 'Ace A1 Plus-Smartphone', 'description': 'Batch : Batch 01', 'quantity': '800 Nos', 'unit_price': '7,000.00', 'total_amount': '56,00,000.00'}], 'file_path': 'data/invoice3.pdf'}\n"
     ]
    }
   ],
   "source": [
    "import json\n",
    "\n",
    "json_data = []\n",
    "errors_json = []\n",
    "\n",
    "for i, ex in enumerate(extractions):\n",
    "    if isinstance(ex, Invoice):\n",
    "        try:\n",
    "            json_item = json.loads(ex.json())\n",
    "            json_item[\"file_path\"] = files[i]\n",
    "            json_data.append(json_item)\n",
    "        except Exception as e:\n",
    "            errors_json.append(ex)\n",
    "            print(f\"Error: {e}\")\n",
    "    else:\n",
    "        errors_json.append(ex)\n",
    "\n",
    "print(f\"error count: {len(errors_json)}\")\n",
    "\n",
    "print(json_data[0])"
   ]
  },
  {
   "cell_type": "code",
   "execution_count": null,
   "metadata": {},
   "outputs": [],
   "source": [
    "# extractions # json_data \n",
    "\n",
    "# json_data[1] # invoice2.pdf"
   ]
  },
  {
   "cell_type": "code",
   "execution_count": 26,
   "metadata": {},
   "outputs": [
    {
     "data": {
      "text/html": [
       "<div>\n",
       "<style scoped>\n",
       "    .dataframe tbody tr th:only-of-type {\n",
       "        vertical-align: middle;\n",
       "    }\n",
       "\n",
       "    .dataframe tbody tr th {\n",
       "        vertical-align: top;\n",
       "    }\n",
       "\n",
       "    .dataframe thead th {\n",
       "        text-align: right;\n",
       "    }\n",
       "</style>\n",
       "<table border=\"1\" class=\"dataframe\">\n",
       "  <thead>\n",
       "    <tr style=\"text-align: right;\">\n",
       "      <th></th>\n",
       "      <th>invoice_number</th>\n",
       "      <th>invoice_date</th>\n",
       "      <th>company_name</th>\n",
       "      <th>invoice_amount</th>\n",
       "      <th>currency</th>\n",
       "      <th>items</th>\n",
       "      <th>file_path</th>\n",
       "      <th>remit_to_address_street</th>\n",
       "      <th>remit_to_address_city</th>\n",
       "      <th>remit_to_address_state</th>\n",
       "      <th>remit_to_address_country</th>\n",
       "      <th>remit_to_address_zip_code</th>\n",
       "      <th>remit_to_address_others</th>\n",
       "      <th>ship_to_address_street</th>\n",
       "      <th>ship_to_address_city</th>\n",
       "      <th>ship_to_address_state</th>\n",
       "      <th>ship_to_address_country</th>\n",
       "      <th>ship_to_address_zip_code</th>\n",
       "      <th>ship_to_address_others</th>\n",
       "      <th>ship_to_address</th>\n",
       "    </tr>\n",
       "  </thead>\n",
       "  <tbody>\n",
       "    <tr>\n",
       "      <th>0</th>\n",
       "      <td>181000001348</td>\n",
       "      <td>18-Apr-2019</td>\n",
       "      <td>Ace Mobile Manufacturer Pvt Ltd</td>\n",
       "      <td>96,32,000.00</td>\n",
       "      <td>INR</td>\n",
       "      <td>[{'name': 'Ace A1-Smartphone', 'description': ...</td>\n",
       "      <td>data/invoice3.pdf</td>\n",
       "      <td>B-209, Park Plaza</td>\n",
       "      <td>Lucknow</td>\n",
       "      <td>Uttar Pradesh</td>\n",
       "      <td>India</td>\n",
       "      <td>None</td>\n",
       "      <td>GSTIN/UIN: 09AABCS1429B1ZS</td>\n",
       "      <td>Krishana Palace Road</td>\n",
       "      <td>Faizabad</td>\n",
       "      <td>Uttar Pradesh</td>\n",
       "      <td>India</td>\n",
       "      <td>None</td>\n",
       "      <td>GSTIN/UIN : 09AAGCA1654H1ZQ</td>\n",
       "      <td>NaN</td>\n",
       "    </tr>\n",
       "    <tr>\n",
       "      <th>1</th>\n",
       "      <td>124567AB</td>\n",
       "      <td>04/05/2022</td>\n",
       "      <td>BROUR</td>\n",
       "      <td>7000</td>\n",
       "      <td>SGD</td>\n",
       "      <td>[{'name': 'Mitsubishi Electric Asia Pte Ltd', ...</td>\n",
       "      <td>data/invoice1.pdf</td>\n",
       "      <td>12 Commonwealth Drive</td>\n",
       "      <td>Singapore</td>\n",
       "      <td>None</td>\n",
       "      <td>Singapore</td>\n",
       "      <td>S143023</td>\n",
       "      <td>Phone: 123452 Fax: 123453</td>\n",
       "      <td>WeCan Halt Road #28-01</td>\n",
       "      <td>Singapore</td>\n",
       "      <td>None</td>\n",
       "      <td>Singapore</td>\n",
       "      <td>S123456</td>\n",
       "      <td>Phone: 123445</td>\n",
       "      <td>NaN</td>\n",
       "    </tr>\n",
       "    <tr>\n",
       "      <th>2</th>\n",
       "      <td>YOUR LOGO HERE 500 i 70</td>\n",
       "      <td>None</td>\n",
       "      <td>Your Company</td>\n",
       "      <td>6250</td>\n",
       "      <td>None</td>\n",
       "      <td>[{'name': 'Website arreframe for 5 pages', 'de...</td>\n",
       "      <td>data/invoice6.pdf</td>\n",
       "      <td>123 Man Street</td>\n",
       "      <td>Anytown</td>\n",
       "      <td>None</td>\n",
       "      <td>USA</td>\n",
       "      <td>None</td>\n",
       "      <td>None</td>\n",
       "      <td>Address Line 1</td>\n",
       "      <td>None</td>\n",
       "      <td>None</td>\n",
       "      <td>None</td>\n",
       "      <td>None</td>\n",
       "      <td>Address Line 2</td>\n",
       "      <td>NaN</td>\n",
       "    </tr>\n",
       "    <tr>\n",
       "      <th>3</th>\n",
       "      <td>1582745827</td>\n",
       "      <td>7/15/22</td>\n",
       "      <td>Aristris sethren Limited</td>\n",
       "      <td>105.00</td>\n",
       "      <td>US</td>\n",
       "      <td>[{'name': 'CROSS DOCK PRDC', 'description': No...</td>\n",
       "      <td>data/invoice0.pdf</td>\n",
       "      <td>5900 N. GOLDEN STATE BLVD</td>\n",
       "      <td>TURLOCK</td>\n",
       "      <td>CA</td>\n",
       "      <td>US</td>\n",
       "      <td>95382</td>\n",
       "      <td>None</td>\n",
       "      <td>7062 PACIFIC AVE</td>\n",
       "      <td>PLEASANT GROVE</td>\n",
       "      <td>CA</td>\n",
       "      <td>US</td>\n",
       "      <td>95668</td>\n",
       "      <td>None</td>\n",
       "      <td>NaN</td>\n",
       "    </tr>\n",
       "    <tr>\n",
       "      <th>4</th>\n",
       "      <td>INV-42532622</td>\n",
       "      <td>2021-05-23</td>\n",
       "      <td>Unit 1, Lingkaran Syed Putra Mid Valley City 5...</td>\n",
       "      <td>35.33</td>\n",
       "      <td>USD</td>\n",
       "      <td>[{'name': 'Lorems ipsum', 'description': None,...</td>\n",
       "      <td>data/invoice4.pdf</td>\n",
       "      <td>Unit 999, Lingkaran Syed Putra Mid Valley City</td>\n",
       "      <td>Kuala Lumpur</td>\n",
       "      <td>Wilayah Persekutuan Kuala Lumpur</td>\n",
       "      <td>Malaysia</td>\n",
       "      <td>59200</td>\n",
       "      <td>Tel: 03-1234 5678</td>\n",
       "      <td>Unit 999, Lingkaran Syed Putra Mid Valley City</td>\n",
       "      <td>Kuala Lumpur</td>\n",
       "      <td>Wilayah Persekutuan Kuala Lumpur</td>\n",
       "      <td>Malaysia</td>\n",
       "      <td>59200</td>\n",
       "      <td>Tel: 03-1234 5678</td>\n",
       "      <td>NaN</td>\n",
       "    </tr>\n",
       "  </tbody>\n",
       "</table>\n",
       "</div>"
      ],
      "text/plain": [
       "            invoice_number invoice_date  \\\n",
       "0             181000001348  18-Apr-2019   \n",
       "1                 124567AB   04/05/2022   \n",
       "2  YOUR LOGO HERE 500 i 70         None   \n",
       "3               1582745827      7/15/22   \n",
       "4             INV-42532622   2021-05-23   \n",
       "\n",
       "                                        company_name invoice_amount currency  \\\n",
       "0                    Ace Mobile Manufacturer Pvt Ltd   96,32,000.00      INR   \n",
       "1                                              BROUR           7000      SGD   \n",
       "2                                       Your Company           6250     None   \n",
       "3                           Aristris sethren Limited         105.00       US   \n",
       "4  Unit 1, Lingkaran Syed Putra Mid Valley City 5...          35.33      USD   \n",
       "\n",
       "                                               items          file_path  \\\n",
       "0  [{'name': 'Ace A1-Smartphone', 'description': ...  data/invoice3.pdf   \n",
       "1  [{'name': 'Mitsubishi Electric Asia Pte Ltd', ...  data/invoice1.pdf   \n",
       "2  [{'name': 'Website arreframe for 5 pages', 'de...  data/invoice6.pdf   \n",
       "3  [{'name': 'CROSS DOCK PRDC', 'description': No...  data/invoice0.pdf   \n",
       "4  [{'name': 'Lorems ipsum', 'description': None,...  data/invoice4.pdf   \n",
       "\n",
       "                          remit_to_address_street remit_to_address_city  \\\n",
       "0                               B-209, Park Plaza               Lucknow   \n",
       "1                           12 Commonwealth Drive             Singapore   \n",
       "2                                  123 Man Street               Anytown   \n",
       "3                       5900 N. GOLDEN STATE BLVD               TURLOCK   \n",
       "4  Unit 999, Lingkaran Syed Putra Mid Valley City          Kuala Lumpur   \n",
       "\n",
       "             remit_to_address_state remit_to_address_country  \\\n",
       "0                     Uttar Pradesh                    India   \n",
       "1                              None                Singapore   \n",
       "2                              None                      USA   \n",
       "3                                CA                       US   \n",
       "4  Wilayah Persekutuan Kuala Lumpur                 Malaysia   \n",
       "\n",
       "  remit_to_address_zip_code     remit_to_address_others  \\\n",
       "0                      None  GSTIN/UIN: 09AABCS1429B1ZS   \n",
       "1                   S143023   Phone: 123452 Fax: 123453   \n",
       "2                      None                        None   \n",
       "3                     95382                        None   \n",
       "4                     59200           Tel: 03-1234 5678   \n",
       "\n",
       "                           ship_to_address_street ship_to_address_city  \\\n",
       "0                            Krishana Palace Road             Faizabad   \n",
       "1                          WeCan Halt Road #28-01            Singapore   \n",
       "2                                  Address Line 1                 None   \n",
       "3                                7062 PACIFIC AVE       PLEASANT GROVE   \n",
       "4  Unit 999, Lingkaran Syed Putra Mid Valley City         Kuala Lumpur   \n",
       "\n",
       "              ship_to_address_state ship_to_address_country  \\\n",
       "0                     Uttar Pradesh                   India   \n",
       "1                              None               Singapore   \n",
       "2                              None                    None   \n",
       "3                                CA                      US   \n",
       "4  Wilayah Persekutuan Kuala Lumpur                Malaysia   \n",
       "\n",
       "  ship_to_address_zip_code       ship_to_address_others  ship_to_address  \n",
       "0                     None  GSTIN/UIN : 09AAGCA1654H1ZQ              NaN  \n",
       "1                  S123456                Phone: 123445              NaN  \n",
       "2                     None               Address Line 2              NaN  \n",
       "3                    95668                         None              NaN  \n",
       "4                    59200            Tel: 03-1234 5678              NaN  "
      ]
     },
     "execution_count": 26,
     "metadata": {},
     "output_type": "execute_result"
    }
   ],
   "source": [
    "import pandas as pd\n",
    "\n",
    "# data = pd.DataFrame(json_data)\n",
    "\n",
    "data = pd.json_normalize(json_data, sep='_')\n",
    "data.head()"
   ]
  },
  {
   "cell_type": "code",
   "execution_count": 27,
   "metadata": {},
   "outputs": [
    {
     "name": "stdout",
     "output_type": "stream",
     "text": [
      "before columns drop data.shape: (6, 20)\n",
      "after columns drop data.shape: (6, 18)\n"
     ]
    }
   ],
   "source": [
    "print(f\"before columns drop data.shape: {data.shape}\")\n",
    "data.drop(columns=[\"items\", \"ship_to_address\"], axis=1, inplace=True)\n",
    "print(f\"after columns drop data.shape: {data.shape}\")"
   ]
  },
  {
   "cell_type": "code",
   "execution_count": null,
   "metadata": {},
   "outputs": [],
   "source": [
    "# json_0 = json.loads(data.iloc[0].to_json())"
   ]
  },
  {
   "cell_type": "markdown",
   "metadata": {},
   "source": [
    "### create ner dataset"
   ]
  },
  {
   "cell_type": "code",
   "execution_count": 38,
   "metadata": {},
   "outputs": [
    {
     "name": "stdout",
     "output_type": "stream",
     "text": [
      "error count: 0\n",
      "total records: 74\n"
     ]
    }
   ],
   "source": [
    "import numpy as np\n",
    "\n",
    "dataset_ner = []\n",
    "error_dataset_ner = []\n",
    "for i, item in data.iterrows():\n",
    "    try:\n",
    "        output_json = json.loads(item.to_json())\n",
    "        for key, value in output_json.items():\n",
    "            if key != \"file_path\":\n",
    "                key = key.upper()\n",
    "                key = key.replace(\" \", \"_\")\n",
    "                if (value) and (value != \"nan\"):\n",
    "                    dataset_ner.append({\n",
    "                        \"file\": item[\"file_path\"],\n",
    "                        \"type\": key,\n",
    "                        \"value\": value\n",
    "                    })\n",
    "    except Exception as e:\n",
    "        error_dataset_ner.append({\"id\": i, \"error\": e})\n",
    "print(f\"error count: {len(error_dataset_ner)}\")\n",
    "print(f\"total records: {len(dataset_ner)}\")"
   ]
  },
  {
   "cell_type": "code",
   "execution_count": 39,
   "metadata": {},
   "outputs": [
    {
     "data": {
      "text/plain": [
       "[]"
      ]
     },
     "execution_count": 39,
     "metadata": {},
     "output_type": "execute_result"
    }
   ],
   "source": [
    "error_dataset_ner"
   ]
  },
  {
   "cell_type": "markdown",
   "metadata": {},
   "source": [
    "### visualize"
   ]
  },
  {
   "cell_type": "code",
   "execution_count": 46,
   "metadata": {},
   "outputs": [
    {
     "data": {
      "text/html": [
       "<div>\n",
       "<style scoped>\n",
       "    .dataframe tbody tr th:only-of-type {\n",
       "        vertical-align: middle;\n",
       "    }\n",
       "\n",
       "    .dataframe tbody tr th {\n",
       "        vertical-align: top;\n",
       "    }\n",
       "\n",
       "    .dataframe thead th {\n",
       "        text-align: right;\n",
       "    }\n",
       "</style>\n",
       "<table border=\"1\" class=\"dataframe\">\n",
       "  <thead>\n",
       "    <tr style=\"text-align: right;\">\n",
       "      <th></th>\n",
       "      <th>file</th>\n",
       "      <th>type</th>\n",
       "      <th>value</th>\n",
       "    </tr>\n",
       "  </thead>\n",
       "  <tbody>\n",
       "    <tr>\n",
       "      <th>0</th>\n",
       "      <td>data/invoice3.pdf</td>\n",
       "      <td>INVOICE_NUMBER</td>\n",
       "      <td>181000001348</td>\n",
       "    </tr>\n",
       "    <tr>\n",
       "      <th>1</th>\n",
       "      <td>data/invoice3.pdf</td>\n",
       "      <td>INVOICE_DATE</td>\n",
       "      <td>18-Apr-2019</td>\n",
       "    </tr>\n",
       "    <tr>\n",
       "      <th>2</th>\n",
       "      <td>data/invoice3.pdf</td>\n",
       "      <td>COMPANY_NAME</td>\n",
       "      <td>Ace Mobile Manufacturer Pvt Ltd</td>\n",
       "    </tr>\n",
       "    <tr>\n",
       "      <th>3</th>\n",
       "      <td>data/invoice3.pdf</td>\n",
       "      <td>INVOICE_AMOUNT</td>\n",
       "      <td>96,32,000.00</td>\n",
       "    </tr>\n",
       "    <tr>\n",
       "      <th>4</th>\n",
       "      <td>data/invoice3.pdf</td>\n",
       "      <td>CURRENCY</td>\n",
       "      <td>INR</td>\n",
       "    </tr>\n",
       "  </tbody>\n",
       "</table>\n",
       "</div>"
      ],
      "text/plain": [
       "                file            type                            value\n",
       "0  data/invoice3.pdf  INVOICE_NUMBER                     181000001348\n",
       "1  data/invoice3.pdf    INVOICE_DATE                      18-Apr-2019\n",
       "2  data/invoice3.pdf    COMPANY_NAME  Ace Mobile Manufacturer Pvt Ltd\n",
       "3  data/invoice3.pdf  INVOICE_AMOUNT                     96,32,000.00\n",
       "4  data/invoice3.pdf        CURRENCY                              INR"
      ]
     },
     "execution_count": 46,
     "metadata": {},
     "output_type": "execute_result"
    }
   ],
   "source": [
    "ner_data = pd.DataFrame(dataset_ner)\n",
    "ner_data.head()"
   ]
  },
  {
   "cell_type": "code",
   "execution_count": 47,
   "metadata": {},
   "outputs": [
    {
     "data": {
      "text/plain": [
       "type\n",
       "INVOICE_NUMBER               6\n",
       "INVOICE_AMOUNT               6\n",
       "INVOICE_DATE                 5\n",
       "COMPANY_NAME                 5\n",
       "REMIT_TO_ADDRESS_STREET      5\n",
       "REMIT_TO_ADDRESS_COUNTRY     5\n",
       "REMIT_TO_ADDRESS_CITY        5\n",
       "SHIP_TO_ADDRESS_STREET       5\n",
       "CURRENCY                     4\n",
       "SHIP_TO_ADDRESS_OTHERS       4\n",
       "REMIT_TO_ADDRESS_OTHERS      4\n",
       "SHIP_TO_ADDRESS_CITY         4\n",
       "SHIP_TO_ADDRESS_COUNTRY      4\n",
       "REMIT_TO_ADDRESS_STATE       3\n",
       "SHIP_TO_ADDRESS_STATE        3\n",
       "REMIT_TO_ADDRESS_ZIP_CODE    3\n",
       "SHIP_TO_ADDRESS_ZIP_CODE     3\n",
       "Name: count, dtype: int64"
      ]
     },
     "execution_count": 47,
     "metadata": {},
     "output_type": "execute_result"
    }
   ],
   "source": [
    "ner_data['type'].value_counts()"
   ]
  },
  {
   "cell_type": "code",
   "execution_count": 48,
   "metadata": {},
   "outputs": [],
   "source": [
    "# IMP: make sure to update utils.entities.py with the above type values."
   ]
  },
  {
   "cell_type": "code",
   "execution_count": 49,
   "metadata": {},
   "outputs": [
    {
     "name": "stdout",
     "output_type": "stream",
     "text": [
      "Key: COMPANY_NAME\n",
      "Values: ['Ace Mobile Manufacturer Pvt Ltd' 'BROUR' 'Your Company'\n",
      " 'Aristris sethren Limited'\n",
      " 'Unit 1, Lingkaran Syed Putra Mid Valley City 59200 Kuala Lumpur Wilayah Persekutuan Kuala Lumpur']\n",
      "----------\n",
      "Key: CURRENCY\n",
      "Values: ['INR' 'SGD' 'US' 'USD']\n",
      "----------\n",
      "Key: INVOICE_AMOUNT\n",
      "Values: ['96,32,000.00' '7000' '6250' '105.00' '35.33' '12244.57']\n",
      "----------\n",
      "Key: INVOICE_DATE\n",
      "Values: ['18-Apr-2019' '04/05/2022' '7/15/22' '2021-05-23' '27-Feb-2020']\n",
      "----------\n",
      "Key: INVOICE_NUMBER\n",
      "Values: ['181000001348' '124567AB' 'YOUR LOGO HERE 500 i 70' '1582745827'\n",
      " 'INV-42532622' 'XE4289']\n",
      "----------\n",
      "Key: REMIT_TO_ADDRESS_CITY\n",
      "Values: ['Lucknow' 'Singapore' 'Anytown' 'TURLOCK' 'Kuala Lumpur']\n",
      "----------\n",
      "Key: REMIT_TO_ADDRESS_COUNTRY\n",
      "Values: ['India' 'Singapore' 'USA' 'US' 'Malaysia']\n",
      "----------\n",
      "Key: REMIT_TO_ADDRESS_OTHERS\n",
      "Values: ['GSTIN/UIN: 09AABCS1429B1ZS' 'Phone: 123452 Fax: 123453'\n",
      " 'Tel: 03-1234 5678'\n",
      " 'Mr. Venkateswara Rao 9652886877 Hyderabad, ,telangana']\n",
      "----------\n",
      "Key: REMIT_TO_ADDRESS_STATE\n",
      "Values: ['Uttar Pradesh' 'CA' 'Wilayah Persekutuan Kuala Lumpur']\n",
      "----------\n",
      "Key: REMIT_TO_ADDRESS_STREET\n",
      "Values: ['B-209, Park Plaza' '12 Commonwealth Drive' '123 Man Street'\n",
      " '5900 N. GOLDEN STATE BLVD'\n",
      " 'Unit 999, Lingkaran Syed Putra Mid Valley City']\n",
      "----------\n",
      "Key: REMIT_TO_ADDRESS_ZIP_CODE\n",
      "Values: ['S143023' '95382' '59200']\n",
      "----------\n",
      "Key: SHIP_TO_ADDRESS_CITY\n",
      "Values: ['Faizabad' 'Singapore' 'PLEASANT GROVE' 'Kuala Lumpur']\n",
      "----------\n",
      "Key: SHIP_TO_ADDRESS_COUNTRY\n",
      "Values: ['India' 'Singapore' 'US' 'Malaysia']\n",
      "----------\n",
      "Key: SHIP_TO_ADDRESS_OTHERS\n",
      "Values: ['GSTIN/UIN : 09AAGCA1654H1ZQ' 'Phone: 123445' 'Address Line 2'\n",
      " 'Tel: 03-1234 5678']\n",
      "----------\n",
      "Key: SHIP_TO_ADDRESS_STATE\n",
      "Values: ['Uttar Pradesh' 'CA' 'Wilayah Persekutuan Kuala Lumpur']\n",
      "----------\n",
      "Key: SHIP_TO_ADDRESS_STREET\n",
      "Values: ['Krishana Palace Road' 'WeCan Halt Road #28-01' 'Address Line 1'\n",
      " '7062 PACIFIC AVE' 'Unit 999, Lingkaran Syed Putra Mid Valley City']\n",
      "----------\n",
      "Key: SHIP_TO_ADDRESS_ZIP_CODE\n",
      "Values: ['S123456' '95668' '59200']\n",
      "----------\n"
     ]
    }
   ],
   "source": [
    "entity_type_values_series = ner_data.groupby('type')['value'].unique()\n",
    "for key, value in entity_type_values_series.items():\n",
    "    print(f\"Key: {key}\")\n",
    "    print(f\"Values: {value}\")\n",
    "    print(\"-\"*10)"
   ]
  },
  {
   "cell_type": "markdown",
   "metadata": {},
   "source": [
    "### save"
   ]
  },
  {
   "cell_type": "code",
   "execution_count": 51,
   "metadata": {},
   "outputs": [],
   "source": [
    "ner_data.to_csv(\"simple-ner.csv\", index=False)"
   ]
  },
  {
   "cell_type": "code",
   "execution_count": null,
   "metadata": {},
   "outputs": [],
   "source": []
  }
 ],
 "metadata": {
  "kernelspec": {
   "display_name": "pytorch",
   "language": "python",
   "name": "python3"
  },
  "language_info": {
   "codemirror_mode": {
    "name": "ipython",
    "version": 3
   },
   "file_extension": ".py",
   "mimetype": "text/x-python",
   "name": "python",
   "nbconvert_exporter": "python",
   "pygments_lexer": "ipython3",
   "version": "3.10.13"
  }
 },
 "nbformat": 4,
 "nbformat_minor": 2
}
